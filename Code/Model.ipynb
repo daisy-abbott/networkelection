{
 "cells": [
  {
   "cell_type": "code",
   "execution_count": 4,
   "metadata": {},
   "outputs": [],
   "source": [
    "import pandas as pd\n",
    "import re\n",
    "from vaderSentiment.vaderSentiment import SentimentIntensityAnalyzer"
   ]
  },
  {
   "cell_type": "code",
   "execution_count": 20,
   "metadata": {},
   "outputs": [],
   "source": [
    "# Load Trump and Biden tweet datasets \n",
    "trump_tweets_file = \"archive/hashtag_donaldtrump.csv\"\n",
    "biden_tweets_file = \"archive/hashtag_joebiden.csv\"\n",
    "\n",
    "# Define pro-trump and pro-biden hashtags and topics\n",
    "trump_hashtags = [\"#MAGA\", \"#KAG\", \"#FourMoreYears\", \"#SleepyJoe\", \"#BlacksForTrump\", \"#Trump2020\", \"#VoteRed\", \"#WomenForTrump\", \"#LatinosForTrump\", \"#AmericaFirst\", \"#BuildTheWall\"]\n",
    "biden_hashtags = [\"#Biden2020\", \"#BidenHarris2020\", \"#VoteBlue\", \"#NotMyPresident\", \"#BlueWave2020\", \"#VoteBiden\", \"#VoteBlueToSaveAmerica\", \"#BlacksForBiden\", \"#WomenForBiden\", \"#LatinosForBiden\"]\n",
    "topics = ['abortion', 'immigration', 'gun control']\n",
    "\n",
    "# Create a dictionary to map topics to labels\n",
    "topic_to_label = {'abortion': 0, 'Abortion': 0,'fetus': 0, 'Fetus': 0,'pro-life': 0, 'pro-choice': 0, 'babies': 0,\n",
    "                'immigration': 1, 'immigrant': 1, 'immigrants': 1, 'Immigration': 1, 'Immigrant': 1, 'Immigrants': 1,\n",
    "                'wall': 1, 'border': 1, 'arms': 2, 'gun': 2, 'bullet': 2, 'Gun': 2, 'guns': 2, 'Guns': 2}\n",
    "\n",
    "#Trump Dataframe\n",
    "trump_df = pd.DataFrame()\n",
    "\n",
    "#Biden Dataframe\n",
    "biden_df = pd.DataFrame()\n",
    "\n",
    "def filter_tweets_by_hashtags(tweet_df, hashtags, label):\n",
    "    # Convert 'tweet' column to string\n",
    "    tweet_df['tweet'] = tweet_df['tweet'].astype(str)\n",
    "    \n",
    "    # Construct a regular expression pattern to match any of the specified hashtags\n",
    "    pattern = '|'.join([re.escape(tag) for tag in hashtags])\n",
    "    \n",
    "    # Filter tweets that contain any of the specified hashtags\n",
    "    filtered_tweets = tweet_df[tweet_df['tweet'].str.contains(pattern, case=False)]\n",
    "    \n",
    "    # Add a new column 'label' with specified label\n",
    "    filtered_tweets['label'] = label\n",
    "    \n",
    "    return filtered_tweets\n",
    "\n",
    "def label_tweets_by_topic(tweet_df, topics):\n",
    "    # Initialize a list to store labels for each tweet\n",
    "    labels = []\n",
    "    \n",
    "    # Iterate over each tweet\n",
    "    for tweet in tweet_df['tweet']:\n",
    "        # Initialize label to None\n",
    "        label = None\n",
    "        \n",
    "        try:\n",
    "            # Check if any topic appears in the tweet\n",
    "            for topic in topics:\n",
    "                if topic in str(tweet):  # Convert tweet to string\n",
    "                    # If topic found, assign the corresponding label\n",
    "                    label = topic_to_label.get(topic)\n",
    "                    break  # Exit loop once a topic is found\n",
    "        except TypeError:  # Catch the TypeError exception when tweet is not a string\n",
    "            label = -1\n",
    "        \n",
    "        # If no topic found, assign a default label (e.g., -1)\n",
    "        if label is None:\n",
    "            label = -1\n",
    "        \n",
    "        # Append the label to the list of labels\n",
    "        labels.append(label)\n",
    "    \n",
    "    # Add a new column 'topic' to the DataFrame\n",
    "    tweet_df['topic'] = labels\n",
    "    \n",
    "    return tweet_df\n",
    "\n"
   ]
  },
  {
   "cell_type": "code",
   "execution_count": 17,
   "metadata": {
    "scrolled": true
   },
   "outputs": [
    {
     "data": {
      "text/html": [
       "<div>\n",
       "<style scoped>\n",
       "    .dataframe tbody tr th:only-of-type {\n",
       "        vertical-align: middle;\n",
       "    }\n",
       "\n",
       "    .dataframe tbody tr th {\n",
       "        vertical-align: top;\n",
       "    }\n",
       "\n",
       "    .dataframe thead th {\n",
       "        text-align: right;\n",
       "    }\n",
       "</style>\n",
       "<table border=\"1\" class=\"dataframe\">\n",
       "  <thead>\n",
       "    <tr style=\"text-align: right;\">\n",
       "      <th></th>\n",
       "      <th>tweet_text</th>\n",
       "      <th>score</th>\n",
       "      <th>candidate</th>\n",
       "    </tr>\n",
       "  </thead>\n",
       "  <tbody>\n",
       "    <tr>\n",
       "      <th>0</th>\n",
       "      <td>#ElezioniUsa2020 in stallo. #Biden e #Trump so...</td>\n",
       "      <td>0.0000</td>\n",
       "      <td>1</td>\n",
       "    </tr>\n",
       "    <tr>\n",
       "      <th>1</th>\n",
       "      <td>President @realDonaldTrump Wins #Mississippi \\...</td>\n",
       "      <td>0.5719</td>\n",
       "      <td>1</td>\n",
       "    </tr>\n",
       "    <tr>\n",
       "      <th>2</th>\n",
       "      <td>\"China’s turns on the charm to get its belt an...</td>\n",
       "      <td>-0.3818</td>\n",
       "      <td>1</td>\n",
       "    </tr>\n",
       "    <tr>\n",
       "      <th>3</th>\n",
       "      <td>I am sensitive to the fact that he suffers fro...</td>\n",
       "      <td>-0.7709</td>\n",
       "      <td>0</td>\n",
       "    </tr>\n",
       "    <tr>\n",
       "      <th>4</th>\n",
       "      <td>@realDonaldTrump : I want to say you (from Fra...</td>\n",
       "      <td>0.8172</td>\n",
       "      <td>0</td>\n",
       "    </tr>\n",
       "  </tbody>\n",
       "</table>\n",
       "</div>"
      ],
      "text/plain": [
       "                                          tweet_text   score  candidate\n",
       "0  #ElezioniUsa2020 in stallo. #Biden e #Trump so...  0.0000          1\n",
       "1  President @realDonaldTrump Wins #Mississippi \\...  0.5719          1\n",
       "2  \"China’s turns on the charm to get its belt an... -0.3818          1\n",
       "3  I am sensitive to the fact that he suffers fro... -0.7709          0\n",
       "4  @realDonaldTrump : I want to say you (from Fra...  0.8172          0"
      ]
     },
     "execution_count": 17,
     "metadata": {},
     "output_type": "execute_result"
    }
   ],
   "source": [
    "import pandas as pd\n",
    "# load in the preprocessed data\n",
    "merged_df = pd.read_csv('Data/training_data.csv')\n",
    "merged_df.head()\n",
    "\n",
    "# trump = 1, biden = 0\n",
    "# 204182 pro trump tweets\n",
    "# 85406 pro biden tweets"
   ]
  },
  {
   "cell_type": "code",
   "execution_count": 13,
   "metadata": {},
   "outputs": [
    {
     "name": "stderr",
     "output_type": "stream",
     "text": [
      "/var/folders/6h/b3cz5mm52w11znt94brmxql80000gn/T/ipykernel_5537/578802554.py:32: SettingWithCopyWarning: \n",
      "A value is trying to be set on a copy of a slice from a DataFrame.\n",
      "Try using .loc[row_indexer,col_indexer] = value instead\n",
      "\n",
      "See the caveats in the documentation: https://pandas.pydata.org/pandas-docs/stable/user_guide/indexing.html#returning-a-view-versus-a-copy\n",
      "  filtered_tweets['label'] = label\n"
     ]
    }
   ],
   "source": [
    "# This was part of an attempt to train data on just topic and vader score\n",
    "# This was not used in the training of our final model**\n",
    "pro_trump = filter_tweets_by_hashtags(merged_df, trump_hashtags, 1)"
   ]
  },
  {
   "cell_type": "code",
   "execution_count": 14,
   "metadata": {},
   "outputs": [
    {
     "data": {
      "text/html": [
       "<div>\n",
       "<style scoped>\n",
       "    .dataframe tbody tr th:only-of-type {\n",
       "        vertical-align: middle;\n",
       "    }\n",
       "\n",
       "    .dataframe tbody tr th {\n",
       "        vertical-align: top;\n",
       "    }\n",
       "\n",
       "    .dataframe thead th {\n",
       "        text-align: right;\n",
       "    }\n",
       "</style>\n",
       "<table border=\"1\" class=\"dataframe\">\n",
       "  <thead>\n",
       "    <tr style=\"text-align: right;\">\n",
       "      <th></th>\n",
       "      <th>tweet_text</th>\n",
       "      <th>score</th>\n",
       "      <th>candidate</th>\n",
       "      <th>tweet</th>\n",
       "      <th>label</th>\n",
       "    </tr>\n",
       "  </thead>\n",
       "  <tbody>\n",
       "    <tr>\n",
       "      <th>0</th>\n",
       "      <td>#ElezioniUsa2020 in stallo. #Biden e #Trump so...</td>\n",
       "      <td>0.0000</td>\n",
       "      <td>1</td>\n",
       "      <td>#ElezioniUsa2020 in stallo. #Biden e #Trump so...</td>\n",
       "      <td>1</td>\n",
       "    </tr>\n",
       "    <tr>\n",
       "      <th>1</th>\n",
       "      <td>President @realDonaldTrump Wins #Mississippi \\...</td>\n",
       "      <td>0.5719</td>\n",
       "      <td>1</td>\n",
       "      <td>President @realDonaldTrump Wins #Mississippi \\...</td>\n",
       "      <td>1</td>\n",
       "    </tr>\n",
       "    <tr>\n",
       "      <th>2</th>\n",
       "      <td>\"China’s turns on the charm to get its belt an...</td>\n",
       "      <td>-0.3818</td>\n",
       "      <td>1</td>\n",
       "      <td>\"China’s turns on the charm to get its belt an...</td>\n",
       "      <td>1</td>\n",
       "    </tr>\n",
       "    <tr>\n",
       "      <th>4</th>\n",
       "      <td>@realDonaldTrump : I want to say you (from Fra...</td>\n",
       "      <td>0.8172</td>\n",
       "      <td>0</td>\n",
       "      <td>@realDonaldTrump : I want to say you (from Fra...</td>\n",
       "      <td>1</td>\n",
       "    </tr>\n",
       "    <tr>\n",
       "      <th>5</th>\n",
       "      <td>@BarackObama I don't know as why I am supporti...</td>\n",
       "      <td>0.9217</td>\n",
       "      <td>1</td>\n",
       "      <td>@BarackObama I don't know as why I am supporti...</td>\n",
       "      <td>1</td>\n",
       "    </tr>\n",
       "  </tbody>\n",
       "</table>\n",
       "</div>"
      ],
      "text/plain": [
       "                                          tweet_text   score  candidate  \\\n",
       "0  #ElezioniUsa2020 in stallo. #Biden e #Trump so...  0.0000          1   \n",
       "1  President @realDonaldTrump Wins #Mississippi \\...  0.5719          1   \n",
       "2  \"China’s turns on the charm to get its belt an... -0.3818          1   \n",
       "4  @realDonaldTrump : I want to say you (from Fra...  0.8172          0   \n",
       "5  @BarackObama I don't know as why I am supporti...  0.9217          1   \n",
       "\n",
       "                                               tweet  label  \n",
       "0  #ElezioniUsa2020 in stallo. #Biden e #Trump so...      1  \n",
       "1  President @realDonaldTrump Wins #Mississippi \\...      1  \n",
       "2  \"China’s turns on the charm to get its belt an...      1  \n",
       "4  @realDonaldTrump : I want to say you (from Fra...      1  \n",
       "5  @BarackObama I don't know as why I am supporti...      1  "
      ]
     },
     "execution_count": 14,
     "metadata": {},
     "output_type": "execute_result"
    }
   ],
   "source": [
    "pro_trump.head()"
   ]
  },
  {
   "cell_type": "code",
   "execution_count": 11,
   "metadata": {},
   "outputs": [],
   "source": [
    "# Pro-trump and pro-biden hashtags\n",
    "hashtags = [\"#MAGA\", \"#KAG\", \"#FourMoreYears\", \"#SleepyJoe\", \"#BlacksForTrump\", \"#Trump2020\", \"#VoteRed\", \"#WomenForTrump\", \"#LatinosForTrump\", \"#AmericaFirst\", \"#BuildTheWall\", \"#Biden2020\", \"#BidenHarris2020\", \"#VoteBlue\", \"#NotMyPresident\", \"#BlueWave2020\", \"#VoteBiden\", \"#VoteBlueToSaveAmerica\", \"#BlacksForBiden\", \"#WomenForBiden\", \"#LatinosForBiden\"]"
   ]
  },
  {
   "cell_type": "code",
   "execution_count": 18,
   "metadata": {},
   "outputs": [
    {
     "name": "stdout",
     "output_type": "stream",
     "text": [
      "#ElezioniUsa2020 in stallo. #Biden e #Trump sono bloccati in una corsa serrata, mentre continua il conteggio dei voti. Potrebbero servire giorni per avere il risultato finale. Gli ultimi dati aggiornati\n",
      "  #Usa2020 #ElectionDay\n",
      "https://t.co/zaZnqYJJyk\n"
     ]
    }
   ],
   "source": [
    "# Remove hashtags from tweet_text column\n",
    "for hashtag in hashtags:\n",
    "    merged_df['tweet_text'] = merged_df['tweet_text'].str.replace(hashtag, '')\n",
    "print(merged_df['tweet_text'][0])"
   ]
  },
  {
   "cell_type": "code",
   "execution_count": 19,
   "metadata": {},
   "outputs": [],
   "source": [
    "# drop duplicates and sanity check\n",
    "#merged_df.drop_duplicates()\n",
    "merged_df.head()\n",
    "\n",
    "# Drop null values\n",
    "merged_df = merged_df.dropna()"
   ]
  },
  {
   "cell_type": "code",
   "execution_count": 24,
   "metadata": {},
   "outputs": [
    {
     "data": {
      "text/html": [
       "<div>\n",
       "<style scoped>\n",
       "    .dataframe tbody tr th:only-of-type {\n",
       "        vertical-align: middle;\n",
       "    }\n",
       "\n",
       "    .dataframe tbody tr th {\n",
       "        vertical-align: top;\n",
       "    }\n",
       "\n",
       "    .dataframe thead th {\n",
       "        text-align: right;\n",
       "    }\n",
       "</style>\n",
       "<table border=\"1\" class=\"dataframe\">\n",
       "  <thead>\n",
       "    <tr style=\"text-align: right;\">\n",
       "      <th></th>\n",
       "      <th>tweet_text</th>\n",
       "      <th>score</th>\n",
       "    </tr>\n",
       "  </thead>\n",
       "  <tbody>\n",
       "    <tr>\n",
       "      <th>152366</th>\n",
       "      <td>#TrumpMeltdown #TrumpIsLosing  #COVID19 #Trump...</td>\n",
       "      <td>0.0000</td>\n",
       "    </tr>\n",
       "    <tr>\n",
       "      <th>118124</th>\n",
       "      <td>🤣 Pretty genius the way #Biden “rigged” this e...</td>\n",
       "      <td>-0.6808</td>\n",
       "    </tr>\n",
       "    <tr>\n",
       "      <th>74534</th>\n",
       "      <td>Carolina Cimenti, jornalista da @GloboNews, fa...</td>\n",
       "      <td>0.0000</td>\n",
       "    </tr>\n",
       "    <tr>\n",
       "      <th>185687</th>\n",
       "      <td>Listen to \"Chris Christie Admits He Was Wrong ...</td>\n",
       "      <td>-0.2263</td>\n",
       "    </tr>\n",
       "    <tr>\n",
       "      <th>180473</th>\n",
       "      <td>Chino-Democrat  Corporate Conglomerate Party M...</td>\n",
       "      <td>0.1280</td>\n",
       "    </tr>\n",
       "  </tbody>\n",
       "</table>\n",
       "</div>"
      ],
      "text/plain": [
       "                                               tweet_text   score\n",
       "152366  #TrumpMeltdown #TrumpIsLosing  #COVID19 #Trump...  0.0000\n",
       "118124  🤣 Pretty genius the way #Biden “rigged” this e... -0.6808\n",
       "74534   Carolina Cimenti, jornalista da @GloboNews, fa...  0.0000\n",
       "185687  Listen to \"Chris Christie Admits He Was Wrong ... -0.2263\n",
       "180473  Chino-Democrat  Corporate Conglomerate Party M...  0.1280"
      ]
     },
     "execution_count": 24,
     "metadata": {},
     "output_type": "execute_result"
    }
   ],
   "source": [
    "X_train.head()"
   ]
  },
  {
   "cell_type": "code",
   "execution_count": 20,
   "metadata": {},
   "outputs": [],
   "source": [
    "from sklearn.model_selection import train_test_split\n",
    "\n",
    "# Split the data into x and y\n",
    "y = merged_df['candidate'] \n",
    "merged_df = merged_df.drop(columns=['candidate'])\n",
    "# merged_df = merged_df.drop(columns=['topic']) # Drop label from features\n",
    "\n",
    "X = merged_df\n",
    "\n",
    "# Split the data into training and testing sets\n",
    "X_train, X_test, y_train, y_test = train_test_split(X, y, test_size=0.2, random_state=42)"
   ]
  },
  {
   "cell_type": "code",
   "execution_count": 3,
   "metadata": {},
   "outputs": [],
   "source": [
    "import tensorflow as tf\n",
    "from tensorflow.keras import layers, models"
   ]
  },
  {
   "cell_type": "code",
   "execution_count": 4,
   "metadata": {},
   "outputs": [],
   "source": [
    "import numpy as np\n",
    "from tensorflow.keras.preprocessing.text import Tokenizer\n",
    "from tensorflow.keras.preprocessing.sequence import pad_sequences\n",
    "from tensorflow.keras.models import Model\n",
    "from tensorflow.keras.layers import Input, Embedding, Flatten, Dense, Dropout, Concatenate\n",
    "from tensorflow.keras.callbacks import EarlyStopping"
   ]
  },
  {
   "cell_type": "code",
   "execution_count": 26,
   "metadata": {},
   "outputs": [
    {
     "name": "stderr",
     "output_type": "stream",
     "text": [
      "/Users/hughchapin/opt/anaconda3/envs/bigdata/lib/python3.11/site-packages/keras/src/layers/core/embedding.py:90: UserWarning: Argument `input_length` is deprecated. Just remove it.\n",
      "  warnings.warn(\n"
     ]
    },
    {
     "name": "stdout",
     "output_type": "stream",
     "text": [
      "Epoch 1/5\n",
      "\u001b[1m5792/5792\u001b[0m \u001b[32m━━━━━━━━━━━━━━━━━━━━\u001b[0m\u001b[37m\u001b[0m \u001b[1m73s\u001b[0m 12ms/step - accuracy: 0.9030 - loss: 0.2282 - val_accuracy: 0.9287 - val_loss: 0.1516\n",
      "Epoch 2/5\n",
      "\u001b[1m5792/5792\u001b[0m \u001b[32m━━━━━━━━━━━━━━━━━━━━\u001b[0m\u001b[37m\u001b[0m \u001b[1m69s\u001b[0m 12ms/step - accuracy: 0.9326 - loss: 0.1470 - val_accuracy: 0.9323 - val_loss: 0.1401\n",
      "Epoch 3/5\n",
      "\u001b[1m5792/5792\u001b[0m \u001b[32m━━━━━━━━━━━━━━━━━━━━\u001b[0m\u001b[37m\u001b[0m \u001b[1m74s\u001b[0m 13ms/step - accuracy: 0.9346 - loss: 0.1379 - val_accuracy: 0.9350 - val_loss: 0.1367\n",
      "Epoch 4/5\n",
      "\u001b[1m5792/5792\u001b[0m \u001b[32m━━━━━━━━━━━━━━━━━━━━\u001b[0m\u001b[37m\u001b[0m \u001b[1m74s\u001b[0m 13ms/step - accuracy: 0.9376 - loss: 0.1314 - val_accuracy: 0.9330 - val_loss: 0.1429\n",
      "Epoch 5/5\n",
      "\u001b[1m5792/5792\u001b[0m \u001b[32m━━━━━━━━━━━━━━━━━━━━\u001b[0m\u001b[37m\u001b[0m \u001b[1m79s\u001b[0m 14ms/step - accuracy: 0.9402 - loss: 0.1252 - val_accuracy: 0.9351 - val_loss: 0.1356\n"
     ]
    }
   ],
   "source": [
    "# Our Model\n",
    "\n",
    "# Tokenize text\n",
    "max_words = 1000  # maximum number of words to consider as features\n",
    "tokenizer = Tokenizer(num_words=max_words)\n",
    "tokenizer.fit_on_texts(X_train['tweet_text'])\n",
    "sequences = tokenizer.texts_to_sequences(X_train['tweet_text'])\n",
    "word_index = tokenizer.word_index\n",
    "maxlen = 280 # max length of a tweet\n",
    "data_text = pad_sequences(sequences, maxlen=maxlen)\n",
    "\n",
    "# Add score as an additional feature\n",
    "features = X_train['score']  \n",
    "\n",
    "# Define text input\n",
    "text_input = Input(shape=(maxlen,), name='text_input')\n",
    "text_embedding = Embedding(max_words, 32, input_length=maxlen)(text_input)\n",
    "text_flatten = Flatten()(text_embedding)\n",
    "\n",
    "# Define features input\n",
    "features_input = Input(shape=(1,), name='features_input')  # Only one feature now\n",
    "\n",
    "# Concatenate text and features\n",
    "concatenated = Concatenate()([text_flatten, features_input])\n",
    "\n",
    "# Dense layers\n",
    "dense_1 = Dense(64, activation='relu')(concatenated)\n",
    "dropout = Dropout(0.5)(dense_1)\n",
    "output = Dense(1, activation='sigmoid')(dropout)\n",
    "\n",
    "# Define model\n",
    "model = Model(inputs=[text_input, features_input], outputs=output)\n",
    "\n",
    "# Compile the model\n",
    "model.compile(optimizer='adam', loss='binary_crossentropy', metrics=['accuracy'])\n",
    "\n",
    "# Define early stopping callback\n",
    "early_stopping = EarlyStopping(monitor='val_loss', patience=5, restore_best_weights=True)\n",
    "\n",
    "# Train the model\n",
    "history = model.fit({'text_input': data_text, 'features_input': features}, y_train, epochs=5, batch_size=32, validation_split=0.2)\n"
   ]
  },
  {
   "cell_type": "code",
   "execution_count": 29,
   "metadata": {},
   "outputs": [
    {
     "name": "stdout",
     "output_type": "stream",
     "text": [
      "\u001b[1m1810/1810\u001b[0m \u001b[32m━━━━━━━━━━━━━━━━━━━━\u001b[0m\u001b[37m\u001b[0m \u001b[1m5s\u001b[0m 3ms/step\n",
      "Classification Report:\n",
      "              precision    recall  f1-score   support\n",
      "\n",
      "           0       0.97      0.81      0.88     17104\n",
      "           1       0.93      0.99      0.96     40814\n",
      "\n",
      "    accuracy                           0.94     57918\n",
      "   macro avg       0.95      0.90      0.92     57918\n",
      "weighted avg       0.94      0.94      0.93     57918\n",
      "\n"
     ]
    }
   ],
   "source": [
    "from sklearn.metrics import classification_report\n",
    "\n",
    "# Tokenize text for test data\n",
    "test_sequences = tokenizer.texts_to_sequences(X_test['tweet_text'])\n",
    "test_data_text = pad_sequences(test_sequences, maxlen=maxlen)  # Ensure maxlen matches the expected input shape of the model\n",
    "\n",
    "# Get predictions on test data\n",
    "y_pred = model.predict({'text_input': test_data_text, 'features_input': X_test['score']})\n",
    "\n",
    "# Convert probabilities to binary predictions\n",
    "y_pred_binary = (y_pred > 0.5).astype(int)\n",
    "\n",
    "# Generate classification report\n",
    "report = classification_report(y_test, y_pred_binary)\n",
    "\n",
    "print(\"Classification Report:\")\n",
    "print(report)\n"
   ]
  },
  {
   "cell_type": "code",
   "execution_count": 30,
   "metadata": {},
   "outputs": [
    {
     "name": "stdout",
     "output_type": "stream",
     "text": [
      "\u001b[1m1810/1810\u001b[0m \u001b[32m━━━━━━━━━━━━━━━━━━━━\u001b[0m\u001b[37m\u001b[0m \u001b[1m5s\u001b[0m 3ms/step\n",
      "Confusion Matrix:\n",
      "[[13886  3218]\n",
      " [  455 40359]]\n"
     ]
    }
   ],
   "source": [
    "from sklearn.metrics import confusion_matrix\n",
    "\n",
    "\n",
    "# Tokenize text for test data\n",
    "test_sequences = tokenizer.texts_to_sequences(X_test['tweet_text'])\n",
    "test_data_text = pad_sequences(test_sequences, maxlen=maxlen)\n",
    "\n",
    "# Get predictions on test data\n",
    "y_pred = model.predict({'text_input': test_data_text, 'features_input': X_test['score']})\n",
    "\n",
    "# Convert probabilities to binary predictions\n",
    "y_pred_binary = (y_pred > 0.5).astype(int)\n",
    "\n",
    "# Compute confusion matrix\n",
    "conf_matrix = confusion_matrix(y_test, y_pred_binary)\n",
    "\n",
    "print(\"Confusion Matrix:\")\n",
    "print(conf_matrix)\n"
   ]
  },
  {
   "cell_type": "code",
   "execution_count": 34,
   "metadata": {},
   "outputs": [
    {
     "data": {
      "image/png": "[encoded data removed]",
      "text/plain": [
       "<Figure size 800x600 with 1 Axes>"
      ]
     },
     "metadata": {},
     "output_type": "display_data"
    }
   ],
   "source": [
    "\n",
    "import seaborn as sns\n",
    "import matplotlib.pyplot as plt\n",
    "from sklearn.metrics import confusion_matrix\n",
    "\n",
    "# Plot confusion matrix\n",
    "plt.figure(figsize=(8, 6))\n",
    "sns.heatmap(conf_matrix, annot=True, fmt=\"d\", cmap=\"Blues\", cbar=False, \n",
    "            xticklabels=[\"Predicted Biden\", \"Predicted Trump\"], yticklabels=[\"Actual Biden\", \"Actual Trump\"])\n",
    "plt.xlabel('Predicted label')\n",
    "plt.ylabel('True label')\n",
    "plt.title('Confusion Matrix')\n",
    "plt.show()\n"
   ]
  },
  {
   "cell_type": "code",
   "execution_count": 87,
   "metadata": {},
   "outputs": [
    {
     "data": {
      "image/png": "[encoded data removed]",
      "text/plain": [
       "<Figure size 1000x500 with 1 Axes>"
      ]
     },
     "metadata": {},
     "output_type": "display_data"
    },
    {
     "data": {
      "image/png": "[encoded data removed]",
      "text/plain": [
       "<Figure size 1000x500 with 1 Axes>"
      ]
     },
     "metadata": {},
     "output_type": "display_data"
    }
   ],
   "source": [
    "import matplotlib.pyplot as plt\n",
    "\n",
    "# Plotting accuracy\n",
    "plt.figure(figsize=(10, 5))\n",
    "plt.plot(history.history['accuracy'], label='Training Accuracy', marker='o')\n",
    "plt.plot(history.history['val_accuracy'], label='Validation Accuracy', marker='o')\n",
    "plt.xlabel('Epochs')\n",
    "plt.ylabel('Accuracy')\n",
    "plt.title('Training and Validation Accuracy')\n",
    "plt.legend()\n",
    "plt.show()\n",
    "\n",
    "# Plotting loss\n",
    "plt.figure(figsize=(10, 5))\n",
    "plt.plot(history.history['loss'], label='Training Loss', marker='o')\n",
    "plt.plot(history.history['val_loss'], label='Validation Loss', marker='o')\n",
    "plt.xlabel('Epochs')\n",
    "plt.ylabel('Loss')\n",
    "plt.title('Training and Validation Loss')\n",
    "plt.legend()\n",
    "plt.show()\n"
   ]
  },
  {
   "cell_type": "code",
   "execution_count": 25,
   "metadata": {},
   "outputs": [
    {
     "name": "stderr",
     "output_type": "stream",
     "text": [
      "WARNING:absl:You are saving your model as an HDF5 file via `model.save()` or `keras.saving.save_model(model)`. This file format is considered legacy. We recommend using instead the native Keras format, e.g. `model.save('my_model.keras')` or `keras.saving.save_model(model, 'my_model.keras')`. \n"
     ]
    }
   ],
   "source": [
    "# Saving our model\n",
    "model.save(\"archive/lord_matthias.h5\")"
   ]
  },
  {
   "cell_type": "code",
   "execution_count": 2,
   "metadata": {},
   "outputs": [
    {
     "name": "stderr",
     "output_type": "stream",
     "text": [
      "2024-05-06 13:52:41.044338: I tensorflow/core/platform/cpu_feature_guard.cc:210] This TensorFlow binary is optimized to use available CPU instructions in performance-critical operations.\n",
      "To enable the following instructions: AVX2 FMA, in other operations, rebuild TensorFlow with the appropriate compiler flags.\n",
      "WARNING:absl:Compiled the loaded model, but the compiled metrics have yet to be built. `model.compile_metrics` will be empty until you train or evaluate the model.\n"
     ]
    }
   ],
   "source": [
    "from tensorflow.keras.models import load_model\n",
    "model = load_model(\"archive/lord_matthias.h5\")"
   ]
  },
  {
   "cell_type": "code",
   "execution_count": 16,
   "metadata": {},
   "outputs": [
    {
     "data": {
      "text/html": [
       "<div>\n",
       "<style scoped>\n",
       "    .dataframe tbody tr th:only-of-type {\n",
       "        vertical-align: middle;\n",
       "    }\n",
       "\n",
       "    .dataframe tbody tr th {\n",
       "        vertical-align: top;\n",
       "    }\n",
       "\n",
       "    .dataframe thead th {\n",
       "        text-align: right;\n",
       "    }\n",
       "</style>\n",
       "<table border=\"1\" class=\"dataframe\">\n",
       "  <thead>\n",
       "    <tr style=\"text-align: right;\">\n",
       "      <th></th>\n",
       "      <th>tweet</th>\n",
       "      <th>topic</th>\n",
       "      <th>vader_score</th>\n",
       "    </tr>\n",
       "  </thead>\n",
       "  <tbody>\n",
       "    <tr>\n",
       "      <th>0</th>\n",
       "      <td>@RealCarolJones @charlottesix6 That’s the spec...</td>\n",
       "      <td>2</td>\n",
       "      <td>-0.6351</td>\n",
       "    </tr>\n",
       "    <tr>\n",
       "      <th>1</th>\n",
       "      <td>@JasonMillerinDC @nypost I think I'll end on t...</td>\n",
       "      <td>0</td>\n",
       "      <td>-0.4215</td>\n",
       "    </tr>\n",
       "    <tr>\n",
       "      <th>2</th>\n",
       "      <td>Seuls les bulletins legos doivent être comptés...</td>\n",
       "      <td>2</td>\n",
       "      <td>0.0000</td>\n",
       "    </tr>\n",
       "    <tr>\n",
       "      <th>3</th>\n",
       "      <td>On his first day in office #JoeBiden will use ...</td>\n",
       "      <td>0</td>\n",
       "      <td>-0.8360</td>\n",
       "    </tr>\n",
       "    <tr>\n",
       "      <th>4</th>\n",
       "      <td>This family does... with all our heart, all ou...</td>\n",
       "      <td>2</td>\n",
       "      <td>0.9057</td>\n",
       "    </tr>\n",
       "  </tbody>\n",
       "</table>\n",
       "</div>"
      ],
      "text/plain": [
       "                                               tweet  topic  vader_score\n",
       "0  @RealCarolJones @charlottesix6 That’s the spec...      2      -0.6351\n",
       "1  @JasonMillerinDC @nypost I think I'll end on t...      0      -0.4215\n",
       "2  Seuls les bulletins legos doivent être comptés...      2       0.0000\n",
       "3  On his first day in office #JoeBiden will use ...      0      -0.8360\n",
       "4  This family does... with all our heart, all ou...      2       0.9057"
      ]
     },
     "execution_count": 16,
     "metadata": {},
     "output_type": "execute_result"
    }
   ],
   "source": [
    "# Read in the larger dataset with tweet, topic, and vader_score (but no pro-trump or biden label)\n",
    "final_output = pd.read_csv('archive/final_biden_trump.csv')\n",
    "final_output.head()"
   ]
  },
  {
   "cell_type": "code",
   "execution_count": 22,
   "metadata": {},
   "outputs": [
    {
     "name": "stdout",
     "output_type": "stream",
     "text": [
      "(3417, 4)\n"
     ]
    },
    {
     "name": "stderr",
     "output_type": "stream",
     "text": [
      "/var/folders/6h/b3cz5mm52w11znt94brmxql80000gn/T/ipykernel_5537/2586836164.py:32: SettingWithCopyWarning: \n",
      "A value is trying to be set on a copy of a slice from a DataFrame.\n",
      "Try using .loc[row_indexer,col_indexer] = value instead\n",
      "\n",
      "See the caveats in the documentation: https://pandas.pydata.org/pandas-docs/stable/user_guide/indexing.html#returning-a-view-versus-a-copy\n",
      "  filtered_tweets['label'] = label\n"
     ]
    }
   ],
   "source": [
    "# The next set of cells was a last minute attempt to try and use only topic and vader score as features to predict candidate\n",
    "# This did not work very well and was not used as our final model\n",
    "pro_trump = filter_tweets_by_hashtags(final_output, trump_hashtags, 1)\n",
    "pro_trump.head()\n",
    "print(pro_trump.shape)"
   ]
  },
  {
   "cell_type": "code",
   "execution_count": 28,
   "metadata": {},
   "outputs": [
    {
     "name": "stderr",
     "output_type": "stream",
     "text": [
      "/var/folders/6h/b3cz5mm52w11znt94brmxql80000gn/T/ipykernel_5537/4040716126.py:1: SettingWithCopyWarning: \n",
      "A value is trying to be set on a copy of a slice from a DataFrame\n",
      "\n",
      "See the caveats in the documentation: https://pandas.pydata.org/pandas-docs/stable/user_guide/indexing.html#returning-a-view-versus-a-copy\n",
      "  pro_trump.drop_duplicates(inplace=True)\n"
     ]
    },
    {
     "data": {
      "text/plain": [
       "topic\n",
       "1    810\n",
       "2    712\n",
       "0    246\n",
       "Name: count, dtype: int64"
      ]
     },
     "execution_count": 28,
     "metadata": {},
     "output_type": "execute_result"
    }
   ],
   "source": [
    "pro_trump.drop_duplicates(inplace=True)\n",
    "pro_trump['topic'].value_counts()"
   ]
  },
  {
   "cell_type": "code",
   "execution_count": 24,
   "metadata": {},
   "outputs": [
    {
     "name": "stdout",
     "output_type": "stream",
     "text": [
      "(2677, 4)\n"
     ]
    },
    {
     "name": "stderr",
     "output_type": "stream",
     "text": [
      "/var/folders/6h/b3cz5mm52w11znt94brmxql80000gn/T/ipykernel_5537/2586836164.py:32: SettingWithCopyWarning: \n",
      "A value is trying to be set on a copy of a slice from a DataFrame.\n",
      "Try using .loc[row_indexer,col_indexer] = value instead\n",
      "\n",
      "See the caveats in the documentation: https://pandas.pydata.org/pandas-docs/stable/user_guide/indexing.html#returning-a-view-versus-a-copy\n",
      "  filtered_tweets['label'] = label\n"
     ]
    }
   ],
   "source": [
    "pro_biden = filter_tweets_by_hashtags(final_output, biden_hashtags, 0)\n",
    "pro_biden.head()\n",
    "print(pro_biden.shape)"
   ]
  },
  {
   "cell_type": "code",
   "execution_count": 27,
   "metadata": {},
   "outputs": [
    {
     "name": "stderr",
     "output_type": "stream",
     "text": [
      "/var/folders/6h/b3cz5mm52w11znt94brmxql80000gn/T/ipykernel_5537/689908501.py:1: SettingWithCopyWarning: \n",
      "A value is trying to be set on a copy of a slice from a DataFrame\n",
      "\n",
      "See the caveats in the documentation: https://pandas.pydata.org/pandas-docs/stable/user_guide/indexing.html#returning-a-view-versus-a-copy\n",
      "  pro_biden.drop_duplicates(inplace=True)\n"
     ]
    },
    {
     "data": {
      "text/plain": [
       "topic\n",
       "1    737\n",
       "2    523\n",
       "0    218\n",
       "Name: count, dtype: int64"
      ]
     },
     "execution_count": 27,
     "metadata": {},
     "output_type": "execute_result"
    }
   ],
   "source": [
    "pro_biden.drop_duplicates(inplace=True)\n",
    "pro_biden['topic'].value_counts()"
   ]
  },
  {
   "cell_type": "code",
   "execution_count": 29,
   "metadata": {},
   "outputs": [],
   "source": [
    "new_df = pd.concat([pro_biden, pro_trump])"
   ]
  },
  {
   "cell_type": "code",
   "execution_count": 34,
   "metadata": {},
   "outputs": [
    {
     "data": {
      "text/html": [
       "<div>\n",
       "<style scoped>\n",
       "    .dataframe tbody tr th:only-of-type {\n",
       "        vertical-align: middle;\n",
       "    }\n",
       "\n",
       "    .dataframe tbody tr th {\n",
       "        vertical-align: top;\n",
       "    }\n",
       "\n",
       "    .dataframe thead th {\n",
       "        text-align: right;\n",
       "    }\n",
       "</style>\n",
       "<table border=\"1\" class=\"dataframe\">\n",
       "  <thead>\n",
       "    <tr style=\"text-align: right;\">\n",
       "      <th></th>\n",
       "      <th>tweet</th>\n",
       "      <th>topic</th>\n",
       "      <th>vader_score</th>\n",
       "      <th>label</th>\n",
       "    </tr>\n",
       "  </thead>\n",
       "  <tbody>\n",
       "    <tr>\n",
       "      <th>22005</th>\n",
       "      <td>Biden (obama) had the house majority &amp;amp; a 6...</td>\n",
       "      <td>1</td>\n",
       "      <td>0.7651</td>\n",
       "      <td>1</td>\n",
       "    </tr>\n",
       "    <tr>\n",
       "      <th>37221</th>\n",
       "      <td>#today #democracy #won #bidenharris2020 #biden...</td>\n",
       "      <td>1</td>\n",
       "      <td>0.0000</td>\n",
       "      <td>0</td>\n",
       "    </tr>\n",
       "    <tr>\n",
       "      <th>35124</th>\n",
       "      <td>Please vote blue I want to have rights, I want...</td>\n",
       "      <td>0</td>\n",
       "      <td>0.2023</td>\n",
       "      <td>0</td>\n",
       "    </tr>\n",
       "    <tr>\n",
       "      <th>13514</th>\n",
       "      <td>@realDonaldTrump LIBERAL GUN OWNING NYS LATINA...</td>\n",
       "      <td>2</td>\n",
       "      <td>0.4484</td>\n",
       "      <td>1</td>\n",
       "    </tr>\n",
       "    <tr>\n",
       "      <th>6312</th>\n",
       "      <td>#MAGA #Trump2020LandslideVictory #ImmigrationM...</td>\n",
       "      <td>1</td>\n",
       "      <td>-0.4767</td>\n",
       "      <td>1</td>\n",
       "    </tr>\n",
       "  </tbody>\n",
       "</table>\n",
       "</div>"
      ],
      "text/plain": [
       "                                                   tweet  topic  vader_score  \\\n",
       "22005  Biden (obama) had the house majority &amp; a 6...      1       0.7651   \n",
       "37221  #today #democracy #won #bidenharris2020 #biden...      1       0.0000   \n",
       "35124  Please vote blue I want to have rights, I want...      0       0.2023   \n",
       "13514  @realDonaldTrump LIBERAL GUN OWNING NYS LATINA...      2       0.4484   \n",
       "6312   #MAGA #Trump2020LandslideVictory #ImmigrationM...      1      -0.4767   \n",
       "\n",
       "       label  \n",
       "22005      1  \n",
       "37221      0  \n",
       "35124      0  \n",
       "13514      1  \n",
       "6312       1  "
      ]
     },
     "execution_count": 34,
     "metadata": {},
     "output_type": "execute_result"
    }
   ],
   "source": [
    "new_df = new_df.sample(frac=1)\n",
    "new_df.head()"
   ]
  },
  {
   "cell_type": "code",
   "execution_count": 38,
   "metadata": {},
   "outputs": [
    {
     "data": {
      "text/html": [
       "<div>\n",
       "<style scoped>\n",
       "    .dataframe tbody tr th:only-of-type {\n",
       "        vertical-align: middle;\n",
       "    }\n",
       "\n",
       "    .dataframe tbody tr th {\n",
       "        vertical-align: top;\n",
       "    }\n",
       "\n",
       "    .dataframe thead th {\n",
       "        text-align: right;\n",
       "    }\n",
       "</style>\n",
       "<table border=\"1\" class=\"dataframe\">\n",
       "  <thead>\n",
       "    <tr style=\"text-align: right;\">\n",
       "      <th></th>\n",
       "      <th>tweet</th>\n",
       "      <th>topic</th>\n",
       "      <th>vader_score</th>\n",
       "      <th>label</th>\n",
       "    </tr>\n",
       "  </thead>\n",
       "  <tbody>\n",
       "    <tr>\n",
       "      <th>22005</th>\n",
       "      <td>Biden (obama) had the house majority &amp;amp; a 6...</td>\n",
       "      <td>1</td>\n",
       "      <td>0.7651</td>\n",
       "      <td>1</td>\n",
       "    </tr>\n",
       "    <tr>\n",
       "      <th>37221</th>\n",
       "      <td>#today #democracy #won #bidenharris2020 #biden...</td>\n",
       "      <td>1</td>\n",
       "      <td>0.0000</td>\n",
       "      <td>0</td>\n",
       "    </tr>\n",
       "    <tr>\n",
       "      <th>35124</th>\n",
       "      <td>Please vote blue I want to have rights, I want...</td>\n",
       "      <td>0</td>\n",
       "      <td>0.2023</td>\n",
       "      <td>0</td>\n",
       "    </tr>\n",
       "    <tr>\n",
       "      <th>13514</th>\n",
       "      <td>@realDonaldTrump LIBERAL GUN OWNING NYS LATINA...</td>\n",
       "      <td>2</td>\n",
       "      <td>0.4484</td>\n",
       "      <td>1</td>\n",
       "    </tr>\n",
       "    <tr>\n",
       "      <th>6312</th>\n",
       "      <td>#MAGA #Trump2020LandslideVictory #ImmigrationM...</td>\n",
       "      <td>1</td>\n",
       "      <td>-0.4767</td>\n",
       "      <td>1</td>\n",
       "    </tr>\n",
       "  </tbody>\n",
       "</table>\n",
       "</div>"
      ],
      "text/plain": [
       "                                                   tweet  topic  vader_score  \\\n",
       "22005  Biden (obama) had the house majority &amp; a 6...      1       0.7651   \n",
       "37221  #today #democracy #won #bidenharris2020 #biden...      1       0.0000   \n",
       "35124  Please vote blue I want to have rights, I want...      0       0.2023   \n",
       "13514  @realDonaldTrump LIBERAL GUN OWNING NYS LATINA...      2       0.4484   \n",
       "6312   #MAGA #Trump2020LandslideVictory #ImmigrationM...      1      -0.4767   \n",
       "\n",
       "       label  \n",
       "22005      1  \n",
       "37221      0  \n",
       "35124      0  \n",
       "13514      1  \n",
       "6312       1  "
      ]
     },
     "execution_count": 38,
     "metadata": {},
     "output_type": "execute_result"
    }
   ],
   "source": [
    "data = pd.DataFrame()\n",
    "data = new_df\n",
    "data.head()"
   ]
  },
  {
   "cell_type": "code",
   "execution_count": 46,
   "metadata": {},
   "outputs": [
    {
     "name": "stdout",
     "output_type": "stream",
     "text": [
      "Epoch 1/100\n"
     ]
    },
    {
     "name": "stderr",
     "output_type": "stream",
     "text": [
      "/Users/hughchapin/opt/anaconda3/envs/bigdata/lib/python3.11/site-packages/keras/src/layers/core/dense.py:87: UserWarning: Do not pass an `input_shape`/`input_dim` argument to a layer. When using Sequential models, prefer using an `Input(shape)` object as the first layer in the model instead.\n",
      "  super().__init__(activity_regularizer=activity_regularizer, **kwargs)\n"
     ]
    },
    {
     "name": "stdout",
     "output_type": "stream",
     "text": [
      "\u001b[1m33/33\u001b[0m \u001b[32m━━━━━━━━━━━━━━━━━━━━\u001b[0m\u001b[37m\u001b[0m \u001b[1m2s\u001b[0m 14ms/step - accuracy: 0.5378 - loss: 1.8704 - val_accuracy: 0.5442 - val_loss: 1.4852\n",
      "Epoch 2/100\n",
      "\u001b[1m33/33\u001b[0m \u001b[32m━━━━━━━━━━━━━━━━━━━━\u001b[0m\u001b[37m\u001b[0m \u001b[1m0s\u001b[0m 4ms/step - accuracy: 0.5479 - loss: 1.3902 - val_accuracy: 0.5442 - val_loss: 1.1517\n",
      "Epoch 3/100\n",
      "\u001b[1m33/33\u001b[0m \u001b[32m━━━━━━━━━━━━━━━━━━━━\u001b[0m\u001b[37m\u001b[0m \u001b[1m0s\u001b[0m 4ms/step - accuracy: 0.5344 - loss: 1.0959 - val_accuracy: 0.5442 - val_loss: 0.9522\n",
      "Epoch 4/100\n",
      "\u001b[1m33/33\u001b[0m \u001b[32m━━━━━━━━━━━━━━━━━━━━\u001b[0m\u001b[37m\u001b[0m \u001b[1m0s\u001b[0m 4ms/step - accuracy: 0.5159 - loss: 0.9215 - val_accuracy: 0.5442 - val_loss: 0.8356\n",
      "Epoch 5/100\n",
      "\u001b[1m33/33\u001b[0m \u001b[32m━━━━━━━━━━━━━━━━━━━━\u001b[0m\u001b[37m\u001b[0m \u001b[1m0s\u001b[0m 4ms/step - accuracy: 0.5393 - loss: 0.8167 - val_accuracy: 0.5442 - val_loss: 0.7693\n",
      "Epoch 6/100\n",
      "\u001b[1m33/33\u001b[0m \u001b[32m━━━━━━━━━━━━━━━━━━━━\u001b[0m\u001b[37m\u001b[0m \u001b[1m0s\u001b[0m 4ms/step - accuracy: 0.5357 - loss: 0.7595 - val_accuracy: 0.5442 - val_loss: 0.7326\n",
      "Epoch 7/100\n",
      "\u001b[1m33/33\u001b[0m \u001b[32m━━━━━━━━━━━━━━━━━━━━\u001b[0m\u001b[37m\u001b[0m \u001b[1m0s\u001b[0m 4ms/step - accuracy: 0.5426 - loss: 0.7269 - val_accuracy: 0.5442 - val_loss: 0.7123\n",
      "Epoch 8/100\n",
      "\u001b[1m33/33\u001b[0m \u001b[32m━━━━━━━━━━━━━━━━━━━━\u001b[0m\u001b[37m\u001b[0m \u001b[1m0s\u001b[0m 4ms/step - accuracy: 0.5267 - loss: 0.7116 - val_accuracy: 0.5442 - val_loss: 0.7015\n",
      "Epoch 9/100\n",
      "\u001b[1m33/33\u001b[0m \u001b[32m━━━━━━━━━━━━━━━━━━━━\u001b[0m\u001b[37m\u001b[0m \u001b[1m0s\u001b[0m 5ms/step - accuracy: 0.5318 - loss: 0.7016 - val_accuracy: 0.5442 - val_loss: 0.6957\n",
      "Epoch 10/100\n",
      "\u001b[1m33/33\u001b[0m \u001b[32m━━━━━━━━━━━━━━━━━━━━\u001b[0m\u001b[37m\u001b[0m \u001b[1m0s\u001b[0m 5ms/step - accuracy: 0.5373 - loss: 0.6958 - val_accuracy: 0.5442 - val_loss: 0.6926\n",
      "Epoch 11/100\n",
      "\u001b[1m33/33\u001b[0m \u001b[32m━━━━━━━━━━━━━━━━━━━━\u001b[0m\u001b[37m\u001b[0m \u001b[1m0s\u001b[0m 4ms/step - accuracy: 0.5246 - loss: 0.6951 - val_accuracy: 0.5442 - val_loss: 0.6911\n",
      "Epoch 12/100\n",
      "\u001b[1m33/33\u001b[0m \u001b[32m━━━━━━━━━━━━━━━━━━━━\u001b[0m\u001b[37m\u001b[0m \u001b[1m0s\u001b[0m 4ms/step - accuracy: 0.5300 - loss: 0.6929 - val_accuracy: 0.5442 - val_loss: 0.6901\n",
      "Epoch 13/100\n",
      "\u001b[1m33/33\u001b[0m \u001b[32m━━━━━━━━━━━━━━━━━━━━\u001b[0m\u001b[37m\u001b[0m \u001b[1m0s\u001b[0m 5ms/step - accuracy: 0.5439 - loss: 0.6901 - val_accuracy: 0.5442 - val_loss: 0.6897\n",
      "Epoch 14/100\n",
      "\u001b[1m33/33\u001b[0m \u001b[32m━━━━━━━━━━━━━━━━━━━━\u001b[0m\u001b[37m\u001b[0m \u001b[1m0s\u001b[0m 4ms/step - accuracy: 0.5533 - loss: 0.6883 - val_accuracy: 0.5442 - val_loss: 0.6895\n",
      "Epoch 15/100\n",
      "\u001b[1m33/33\u001b[0m \u001b[32m━━━━━━━━━━━━━━━━━━━━\u001b[0m\u001b[37m\u001b[0m \u001b[1m0s\u001b[0m 5ms/step - accuracy: 0.5474 - loss: 0.6890 - val_accuracy: 0.5442 - val_loss: 0.6895\n",
      "Epoch 16/100\n",
      "\u001b[1m33/33\u001b[0m \u001b[32m━━━━━━━━━━━━━━━━━━━━\u001b[0m\u001b[37m\u001b[0m \u001b[1m0s\u001b[0m 5ms/step - accuracy: 0.5481 - loss: 0.6890 - val_accuracy: 0.5442 - val_loss: 0.6894\n",
      "Epoch 17/100\n",
      "\u001b[1m33/33\u001b[0m \u001b[32m━━━━━━━━━━━━━━━━━━━━\u001b[0m\u001b[37m\u001b[0m \u001b[1m0s\u001b[0m 4ms/step - accuracy: 0.5577 - loss: 0.6874 - val_accuracy: 0.5442 - val_loss: 0.6894\n",
      "Epoch 18/100\n",
      "\u001b[1m33/33\u001b[0m \u001b[32m━━━━━━━━━━━━━━━━━━━━\u001b[0m\u001b[37m\u001b[0m \u001b[1m0s\u001b[0m 4ms/step - accuracy: 0.5467 - loss: 0.6890 - val_accuracy: 0.5442 - val_loss: 0.6893\n",
      "Epoch 19/100\n",
      "\u001b[1m33/33\u001b[0m \u001b[32m━━━━━━━━━━━━━━━━━━━━\u001b[0m\u001b[37m\u001b[0m \u001b[1m0s\u001b[0m 4ms/step - accuracy: 0.5536 - loss: 0.6879 - val_accuracy: 0.5442 - val_loss: 0.6894\n",
      "Epoch 20/100\n",
      "\u001b[1m33/33\u001b[0m \u001b[32m━━━━━━━━━━━━━━━━━━━━\u001b[0m\u001b[37m\u001b[0m \u001b[1m0s\u001b[0m 4ms/step - accuracy: 0.5486 - loss: 0.6889 - val_accuracy: 0.5442 - val_loss: 0.6894\n",
      "Epoch 21/100\n",
      "\u001b[1m33/33\u001b[0m \u001b[32m━━━━━━━━━━━━━━━━━━━━\u001b[0m\u001b[37m\u001b[0m \u001b[1m0s\u001b[0m 5ms/step - accuracy: 0.5293 - loss: 0.6915 - val_accuracy: 0.5442 - val_loss: 0.6894\n",
      "Epoch 22/100\n",
      "\u001b[1m33/33\u001b[0m \u001b[32m━━━━━━━━━━━━━━━━━━━━\u001b[0m\u001b[37m\u001b[0m \u001b[1m0s\u001b[0m 6ms/step - accuracy: 0.5325 - loss: 0.6911 - val_accuracy: 0.5442 - val_loss: 0.6894\n",
      "Epoch 23/100\n",
      "\u001b[1m33/33\u001b[0m \u001b[32m━━━━━━━━━━━━━━━━━━━━\u001b[0m\u001b[37m\u001b[0m \u001b[1m0s\u001b[0m 4ms/step - accuracy: 0.5497 - loss: 0.6886 - val_accuracy: 0.5442 - val_loss: 0.6893\n",
      "Epoch 24/100\n",
      "\u001b[1m33/33\u001b[0m \u001b[32m━━━━━━━━━━━━━━━━━━━━\u001b[0m\u001b[37m\u001b[0m \u001b[1m0s\u001b[0m 4ms/step - accuracy: 0.5327 - loss: 0.6911 - val_accuracy: 0.5442 - val_loss: 0.6893\n",
      "Epoch 25/100\n",
      "\u001b[1m33/33\u001b[0m \u001b[32m━━━━━━━━━━━━━━━━━━━━\u001b[0m\u001b[37m\u001b[0m \u001b[1m0s\u001b[0m 7ms/step - accuracy: 0.5337 - loss: 0.6910 - val_accuracy: 0.5442 - val_loss: 0.6893\n",
      "Epoch 26/100\n",
      "\u001b[1m33/33\u001b[0m \u001b[32m━━━━━━━━━━━━━━━━━━━━\u001b[0m\u001b[37m\u001b[0m \u001b[1m0s\u001b[0m 7ms/step - accuracy: 0.5420 - loss: 0.6897 - val_accuracy: 0.5442 - val_loss: 0.6893\n",
      "Epoch 27/100\n",
      "\u001b[1m33/33\u001b[0m \u001b[32m━━━━━━━━━━━━━━━━━━━━\u001b[0m\u001b[37m\u001b[0m \u001b[1m0s\u001b[0m 7ms/step - accuracy: 0.5457 - loss: 0.6892 - val_accuracy: 0.5442 - val_loss: 0.6893\n",
      "Epoch 28/100\n",
      "\u001b[1m33/33\u001b[0m \u001b[32m━━━━━━━━━━━━━━━━━━━━\u001b[0m\u001b[37m\u001b[0m \u001b[1m0s\u001b[0m 8ms/step - accuracy: 0.5351 - loss: 0.6907 - val_accuracy: 0.5442 - val_loss: 0.6893\n",
      "Epoch 29/100\n",
      "\u001b[1m33/33\u001b[0m \u001b[32m━━━━━━━━━━━━━━━━━━━━\u001b[0m\u001b[37m\u001b[0m \u001b[1m0s\u001b[0m 5ms/step - accuracy: 0.5228 - loss: 0.6926 - val_accuracy: 0.5442 - val_loss: 0.6893\n",
      "Epoch 30/100\n",
      "\u001b[1m33/33\u001b[0m \u001b[32m━━━━━━━━━━━━━━━━━━━━\u001b[0m\u001b[37m\u001b[0m \u001b[1m0s\u001b[0m 5ms/step - accuracy: 0.5477 - loss: 0.6888 - val_accuracy: 0.5442 - val_loss: 0.6893\n",
      "Epoch 31/100\n",
      "\u001b[1m33/33\u001b[0m \u001b[32m━━━━━━━━━━━━━━━━━━━━\u001b[0m\u001b[37m\u001b[0m \u001b[1m0s\u001b[0m 4ms/step - accuracy: 0.5388 - loss: 0.6901 - val_accuracy: 0.5442 - val_loss: 0.6894\n",
      "Epoch 32/100\n",
      "\u001b[1m33/33\u001b[0m \u001b[32m━━━━━━━━━━━━━━━━━━━━\u001b[0m\u001b[37m\u001b[0m \u001b[1m0s\u001b[0m 5ms/step - accuracy: 0.5448 - loss: 0.6894 - val_accuracy: 0.5442 - val_loss: 0.6893\n",
      "Epoch 33/100\n",
      "\u001b[1m33/33\u001b[0m \u001b[32m━━━━━━━━━━━━━━━━━━━━\u001b[0m\u001b[37m\u001b[0m \u001b[1m0s\u001b[0m 5ms/step - accuracy: 0.5473 - loss: 0.6890 - val_accuracy: 0.5442 - val_loss: 0.6893\n",
      "Epoch 34/100\n",
      "\u001b[1m33/33\u001b[0m \u001b[32m━━━━━━━━━━━━━━━━━━━━\u001b[0m\u001b[37m\u001b[0m \u001b[1m0s\u001b[0m 5ms/step - accuracy: 0.5339 - loss: 0.6909 - val_accuracy: 0.5442 - val_loss: 0.6893\n",
      "Epoch 35/100\n",
      "\u001b[1m33/33\u001b[0m \u001b[32m━━━━━━━━━━━━━━━━━━━━\u001b[0m\u001b[37m\u001b[0m \u001b[1m0s\u001b[0m 4ms/step - accuracy: 0.5327 - loss: 0.6911 - val_accuracy: 0.5442 - val_loss: 0.6893\n",
      "Epoch 36/100\n",
      "\u001b[1m33/33\u001b[0m \u001b[32m━━━━━━━━━━━━━━━━━━━━\u001b[0m\u001b[37m\u001b[0m \u001b[1m0s\u001b[0m 5ms/step - accuracy: 0.5504 - loss: 0.6883 - val_accuracy: 0.5442 - val_loss: 0.6893\n",
      "Epoch 37/100\n",
      "\u001b[1m33/33\u001b[0m \u001b[32m━━━━━━━━━━━━━━━━━━━━\u001b[0m\u001b[37m\u001b[0m \u001b[1m0s\u001b[0m 5ms/step - accuracy: 0.5384 - loss: 0.6902 - val_accuracy: 0.5442 - val_loss: 0.6893\n",
      "Epoch 38/100\n",
      "\u001b[1m33/33\u001b[0m \u001b[32m━━━━━━━━━━━━━━━━━━━━\u001b[0m\u001b[37m\u001b[0m \u001b[1m0s\u001b[0m 5ms/step - accuracy: 0.5351 - loss: 0.6908 - val_accuracy: 0.5442 - val_loss: 0.6894\n",
      "Epoch 39/100\n",
      "\u001b[1m33/33\u001b[0m \u001b[32m━━━━━━━━━━━━━━━━━━━━\u001b[0m\u001b[37m\u001b[0m \u001b[1m0s\u001b[0m 4ms/step - accuracy: 0.5343 - loss: 0.6908 - val_accuracy: 0.5442 - val_loss: 0.6893\n",
      "Epoch 40/100\n",
      "\u001b[1m33/33\u001b[0m \u001b[32m━━━━━━━━━━━━━━━━━━━━\u001b[0m\u001b[37m\u001b[0m \u001b[1m0s\u001b[0m 4ms/step - accuracy: 0.5451 - loss: 0.6893 - val_accuracy: 0.5442 - val_loss: 0.6894\n",
      "Epoch 41/100\n",
      "\u001b[1m33/33\u001b[0m \u001b[32m━━━━━━━━━━━━━━━━━━━━\u001b[0m\u001b[37m\u001b[0m \u001b[1m0s\u001b[0m 5ms/step - accuracy: 0.5437 - loss: 0.6895 - val_accuracy: 0.5442 - val_loss: 0.6893\n",
      "Epoch 42/100\n",
      "\u001b[1m33/33\u001b[0m \u001b[32m━━━━━━━━━━━━━━━━━━━━\u001b[0m\u001b[37m\u001b[0m \u001b[1m0s\u001b[0m 5ms/step - accuracy: 0.5356 - loss: 0.6907 - val_accuracy: 0.5442 - val_loss: 0.6893\n",
      "Epoch 43/100\n",
      "\u001b[1m33/33\u001b[0m \u001b[32m━━━━━━━━━━━━━━━━━━━━\u001b[0m\u001b[37m\u001b[0m \u001b[1m0s\u001b[0m 5ms/step - accuracy: 0.5290 - loss: 0.6918 - val_accuracy: 0.5442 - val_loss: 0.6893\n",
      "Epoch 44/100\n",
      "\u001b[1m33/33\u001b[0m \u001b[32m━━━━━━━━━━━━━━━━━━━━\u001b[0m\u001b[37m\u001b[0m \u001b[1m0s\u001b[0m 6ms/step - accuracy: 0.5412 - loss: 0.6898 - val_accuracy: 0.5442 - val_loss: 0.6893\n",
      "Epoch 45/100\n",
      "\u001b[1m33/33\u001b[0m \u001b[32m━━━━━━━━━━━━━━━━━━━━\u001b[0m\u001b[37m\u001b[0m \u001b[1m0s\u001b[0m 5ms/step - accuracy: 0.5209 - loss: 0.6929 - val_accuracy: 0.5442 - val_loss: 0.6894\n",
      "Epoch 46/100\n",
      "\u001b[1m33/33\u001b[0m \u001b[32m━━━━━━━━━━━━━━━━━━━━\u001b[0m\u001b[37m\u001b[0m \u001b[1m0s\u001b[0m 5ms/step - accuracy: 0.5350 - loss: 0.6908 - val_accuracy: 0.5442 - val_loss: 0.6893\n",
      "Epoch 47/100\n",
      "\u001b[1m33/33\u001b[0m \u001b[32m━━━━━━━━━━━━━━━━━━━━\u001b[0m\u001b[37m\u001b[0m \u001b[1m0s\u001b[0m 6ms/step - accuracy: 0.5414 - loss: 0.6898 - val_accuracy: 0.5442 - val_loss: 0.6894\n",
      "Epoch 48/100\n",
      "\u001b[1m33/33\u001b[0m \u001b[32m━━━━━━━━━━━━━━━━━━━━\u001b[0m\u001b[37m\u001b[0m \u001b[1m0s\u001b[0m 4ms/step - accuracy: 0.5359 - loss: 0.6906 - val_accuracy: 0.5442 - val_loss: 0.6894\n",
      "Epoch 49/100\n",
      "\u001b[1m33/33\u001b[0m \u001b[32m━━━━━━━━━━━━━━━━━━━━\u001b[0m\u001b[37m\u001b[0m \u001b[1m0s\u001b[0m 5ms/step - accuracy: 0.5300 - loss: 0.6915 - val_accuracy: 0.5442 - val_loss: 0.6894\n",
      "Epoch 50/100\n",
      "\u001b[1m33/33\u001b[0m \u001b[32m━━━━━━━━━━━━━━━━━━━━\u001b[0m\u001b[37m\u001b[0m \u001b[1m0s\u001b[0m 6ms/step - accuracy: 0.5334 - loss: 0.6909 - val_accuracy: 0.5442 - val_loss: 0.6893\n",
      "Epoch 51/100\n",
      "\u001b[1m33/33\u001b[0m \u001b[32m━━━━━━━━━━━━━━━━━━━━\u001b[0m\u001b[37m\u001b[0m \u001b[1m0s\u001b[0m 5ms/step - accuracy: 0.5462 - loss: 0.6891 - val_accuracy: 0.5442 - val_loss: 0.6893\n",
      "Epoch 52/100\n",
      "\u001b[1m33/33\u001b[0m \u001b[32m━━━━━━━━━━━━━━━━━━━━\u001b[0m\u001b[37m\u001b[0m \u001b[1m0s\u001b[0m 5ms/step - accuracy: 0.5612 - loss: 0.6867 - val_accuracy: 0.5442 - val_loss: 0.6894\n",
      "Epoch 53/100\n",
      "\u001b[1m33/33\u001b[0m \u001b[32m━━━━━━━━━━━━━━━━━━━━\u001b[0m\u001b[37m\u001b[0m \u001b[1m0s\u001b[0m 5ms/step - accuracy: 0.5367 - loss: 0.6905 - val_accuracy: 0.5442 - val_loss: 0.6894\n",
      "Epoch 54/100\n",
      "\u001b[1m33/33\u001b[0m \u001b[32m━━━━━━━━━━━━━━━━━━━━\u001b[0m\u001b[37m\u001b[0m \u001b[1m0s\u001b[0m 4ms/step - accuracy: 0.5432 - loss: 0.6896 - val_accuracy: 0.5442 - val_loss: 0.6894\n",
      "Epoch 55/100\n",
      "\u001b[1m33/33\u001b[0m \u001b[32m━━━━━━━━━━━━━━━━━━━━\u001b[0m\u001b[37m\u001b[0m \u001b[1m0s\u001b[0m 4ms/step - accuracy: 0.5445 - loss: 0.6894 - val_accuracy: 0.5442 - val_loss: 0.6893\n",
      "Epoch 56/100\n",
      "\u001b[1m33/33\u001b[0m \u001b[32m━━━━━━━━━━━━━━━━━━━━\u001b[0m\u001b[37m\u001b[0m \u001b[1m0s\u001b[0m 6ms/step - accuracy: 0.5383 - loss: 0.6902 - val_accuracy: 0.5442 - val_loss: 0.6893\n",
      "Epoch 57/100\n",
      "\u001b[1m33/33\u001b[0m \u001b[32m━━━━━━━━━━━━━━━━━━━━\u001b[0m\u001b[37m\u001b[0m \u001b[1m0s\u001b[0m 4ms/step - accuracy: 0.5335 - loss: 0.6909 - val_accuracy: 0.5442 - val_loss: 0.6893\n",
      "Epoch 58/100\n",
      "\u001b[1m33/33\u001b[0m \u001b[32m━━━━━━━━━━━━━━━━━━━━\u001b[0m\u001b[37m\u001b[0m \u001b[1m0s\u001b[0m 3ms/step - accuracy: 0.5311 - loss: 0.6913 - val_accuracy: 0.5442 - val_loss: 0.6894\n",
      "Epoch 59/100\n",
      "\u001b[1m33/33\u001b[0m \u001b[32m━━━━━━━━━━━━━━━━━━━━\u001b[0m\u001b[37m\u001b[0m \u001b[1m0s\u001b[0m 3ms/step - accuracy: 0.5417 - loss: 0.6897 - val_accuracy: 0.5442 - val_loss: 0.6893\n",
      "Epoch 60/100\n",
      "\u001b[1m33/33\u001b[0m \u001b[32m━━━━━━━━━━━━━━━━━━━━\u001b[0m\u001b[37m\u001b[0m \u001b[1m0s\u001b[0m 4ms/step - accuracy: 0.5242 - loss: 0.6924 - val_accuracy: 0.5442 - val_loss: 0.6894\n",
      "Epoch 61/100\n",
      "\u001b[1m33/33\u001b[0m \u001b[32m━━━━━━━━━━━━━━━━━━━━\u001b[0m\u001b[37m\u001b[0m \u001b[1m0s\u001b[0m 4ms/step - accuracy: 0.5297 - loss: 0.6915 - val_accuracy: 0.5442 - val_loss: 0.6894\n",
      "Epoch 62/100\n",
      "\u001b[1m33/33\u001b[0m \u001b[32m━━━━━━━━━━━━━━━━━━━━\u001b[0m\u001b[37m\u001b[0m \u001b[1m0s\u001b[0m 3ms/step - accuracy: 0.5469 - loss: 0.6890 - val_accuracy: 0.5442 - val_loss: 0.6893\n",
      "Epoch 63/100\n",
      "\u001b[1m33/33\u001b[0m \u001b[32m━━━━━━━━━━━━━━━━━━━━\u001b[0m\u001b[37m\u001b[0m \u001b[1m0s\u001b[0m 3ms/step - accuracy: 0.5157 - loss: 0.6937 - val_accuracy: 0.5442 - val_loss: 0.6894\n",
      "Epoch 64/100\n",
      "\u001b[1m33/33\u001b[0m \u001b[32m━━━━━━━━━━━━━━━━━━━━\u001b[0m\u001b[37m\u001b[0m \u001b[1m0s\u001b[0m 3ms/step - accuracy: 0.5329 - loss: 0.6911 - val_accuracy: 0.5442 - val_loss: 0.6894\n",
      "Epoch 65/100\n",
      "\u001b[1m33/33\u001b[0m \u001b[32m━━━━━━━━━━━━━━━━━━━━\u001b[0m\u001b[37m\u001b[0m \u001b[1m0s\u001b[0m 3ms/step - accuracy: 0.5339 - loss: 0.6909 - val_accuracy: 0.5442 - val_loss: 0.6893\n",
      "Epoch 66/100\n",
      "\u001b[1m33/33\u001b[0m \u001b[32m━━━━━━━━━━━━━━━━━━━━\u001b[0m\u001b[37m\u001b[0m \u001b[1m0s\u001b[0m 4ms/step - accuracy: 0.5499 - loss: 0.6884 - val_accuracy: 0.5442 - val_loss: 0.6893\n",
      "Epoch 67/100\n",
      "\u001b[1m33/33\u001b[0m \u001b[32m━━━━━━━━━━━━━━━━━━━━\u001b[0m\u001b[37m\u001b[0m \u001b[1m0s\u001b[0m 3ms/step - accuracy: 0.5338 - loss: 0.6909 - val_accuracy: 0.5442 - val_loss: 0.6894\n",
      "Epoch 68/100\n",
      "\u001b[1m33/33\u001b[0m \u001b[32m━━━━━━━━━━━━━━━━━━━━\u001b[0m\u001b[37m\u001b[0m \u001b[1m0s\u001b[0m 4ms/step - accuracy: 0.5366 - loss: 0.6905 - val_accuracy: 0.5442 - val_loss: 0.6893\n",
      "Epoch 69/100\n",
      "\u001b[1m33/33\u001b[0m \u001b[32m━━━━━━━━━━━━━━━━━━━━\u001b[0m\u001b[37m\u001b[0m \u001b[1m0s\u001b[0m 3ms/step - accuracy: 0.5297 - loss: 0.6916 - val_accuracy: 0.5442 - val_loss: 0.6893\n",
      "Epoch 70/100\n",
      "\u001b[1m33/33\u001b[0m \u001b[32m━━━━━━━━━━━━━━━━━━━━\u001b[0m\u001b[37m\u001b[0m \u001b[1m0s\u001b[0m 4ms/step - accuracy: 0.5399 - loss: 0.6900 - val_accuracy: 0.5442 - val_loss: 0.6893\n",
      "Epoch 71/100\n",
      "\u001b[1m33/33\u001b[0m \u001b[32m━━━━━━━━━━━━━━━━━━━━\u001b[0m\u001b[37m\u001b[0m \u001b[1m0s\u001b[0m 4ms/step - accuracy: 0.5512 - loss: 0.6882 - val_accuracy: 0.5442 - val_loss: 0.6893\n",
      "Epoch 72/100\n",
      "\u001b[1m33/33\u001b[0m \u001b[32m━━━━━━━━━━━━━━━━━━━━\u001b[0m\u001b[37m\u001b[0m \u001b[1m0s\u001b[0m 4ms/step - accuracy: 0.5445 - loss: 0.6893 - val_accuracy: 0.5442 - val_loss: 0.6894\n",
      "Epoch 73/100\n",
      "\u001b[1m33/33\u001b[0m \u001b[32m━━━━━━━━━━━━━━━━━━━━\u001b[0m\u001b[37m\u001b[0m \u001b[1m0s\u001b[0m 4ms/step - accuracy: 0.5299 - loss: 0.6914 - val_accuracy: 0.5442 - val_loss: 0.6895\n",
      "Epoch 74/100\n",
      "\u001b[1m33/33\u001b[0m \u001b[32m━━━━━━━━━━━━━━━━━━━━\u001b[0m\u001b[37m\u001b[0m \u001b[1m0s\u001b[0m 4ms/step - accuracy: 0.5430 - loss: 0.6897 - val_accuracy: 0.5442 - val_loss: 0.6893\n",
      "Epoch 75/100\n",
      "\u001b[1m33/33\u001b[0m \u001b[32m━━━━━━━━━━━━━━━━━━━━\u001b[0m\u001b[37m\u001b[0m \u001b[1m0s\u001b[0m 4ms/step - accuracy: 0.5506 - loss: 0.6884 - val_accuracy: 0.5442 - val_loss: 0.6893\n",
      "Epoch 76/100\n",
      "\u001b[1m33/33\u001b[0m \u001b[32m━━━━━━━━━━━━━━━━━━━━\u001b[0m\u001b[37m\u001b[0m \u001b[1m0s\u001b[0m 4ms/step - accuracy: 0.5359 - loss: 0.6906 - val_accuracy: 0.5442 - val_loss: 0.6894\n",
      "Epoch 77/100\n",
      "\u001b[1m33/33\u001b[0m \u001b[32m━━━━━━━━━━━━━━━━━━━━\u001b[0m\u001b[37m\u001b[0m \u001b[1m0s\u001b[0m 4ms/step - accuracy: 0.5366 - loss: 0.6905 - val_accuracy: 0.5442 - val_loss: 0.6894\n",
      "Epoch 78/100\n",
      "\u001b[1m33/33\u001b[0m \u001b[32m━━━━━━━━━━━━━━━━━━━━\u001b[0m\u001b[37m\u001b[0m \u001b[1m0s\u001b[0m 6ms/step - accuracy: 0.5237 - loss: 0.6924 - val_accuracy: 0.5442 - val_loss: 0.6893\n",
      "Epoch 79/100\n",
      "\u001b[1m33/33\u001b[0m \u001b[32m━━━━━━━━━━━━━━━━━━━━\u001b[0m\u001b[37m\u001b[0m \u001b[1m0s\u001b[0m 7ms/step - accuracy: 0.5435 - loss: 0.6895 - val_accuracy: 0.5442 - val_loss: 0.6893\n",
      "Epoch 80/100\n",
      "\u001b[1m33/33\u001b[0m \u001b[32m━━━━━━━━━━━━━━━━━━━━\u001b[0m\u001b[37m\u001b[0m \u001b[1m0s\u001b[0m 5ms/step - accuracy: 0.5357 - loss: 0.6906 - val_accuracy: 0.5442 - val_loss: 0.6894\n",
      "Epoch 81/100\n",
      "\u001b[1m33/33\u001b[0m \u001b[32m━━━━━━━━━━━━━━━━━━━━\u001b[0m\u001b[37m\u001b[0m \u001b[1m0s\u001b[0m 4ms/step - accuracy: 0.5143 - loss: 0.6937 - val_accuracy: 0.5442 - val_loss: 0.6893\n",
      "Epoch 82/100\n",
      "\u001b[1m33/33\u001b[0m \u001b[32m━━━━━━━━━━━━━━━━━━━━\u001b[0m\u001b[37m\u001b[0m \u001b[1m0s\u001b[0m 4ms/step - accuracy: 0.5481 - loss: 0.6889 - val_accuracy: 0.5442 - val_loss: 0.6893\n",
      "Epoch 83/100\n",
      "\u001b[1m33/33\u001b[0m \u001b[32m━━━━━━━━━━━━━━━━━━━━\u001b[0m\u001b[37m\u001b[0m \u001b[1m0s\u001b[0m 4ms/step - accuracy: 0.5381 - loss: 0.6903 - val_accuracy: 0.5442 - val_loss: 0.6892\n",
      "Epoch 84/100\n",
      "\u001b[1m33/33\u001b[0m \u001b[32m━━━━━━━━━━━━━━━━━━━━\u001b[0m\u001b[37m\u001b[0m \u001b[1m0s\u001b[0m 4ms/step - accuracy: 0.5395 - loss: 0.6900 - val_accuracy: 0.5442 - val_loss: 0.6893\n",
      "Epoch 85/100\n",
      "\u001b[1m33/33\u001b[0m \u001b[32m━━━━━━━━━━━━━━━━━━━━\u001b[0m\u001b[37m\u001b[0m \u001b[1m0s\u001b[0m 4ms/step - accuracy: 0.5402 - loss: 0.6899 - val_accuracy: 0.5442 - val_loss: 0.6893\n",
      "Epoch 86/100\n",
      "\u001b[1m33/33\u001b[0m \u001b[32m━━━━━━━━━━━━━━━━━━━━\u001b[0m\u001b[37m\u001b[0m \u001b[1m0s\u001b[0m 4ms/step - accuracy: 0.5299 - loss: 0.6915 - val_accuracy: 0.5442 - val_loss: 0.6893\n",
      "Epoch 87/100\n",
      "\u001b[1m33/33\u001b[0m \u001b[32m━━━━━━━━━━━━━━━━━━━━\u001b[0m\u001b[37m\u001b[0m \u001b[1m0s\u001b[0m 4ms/step - accuracy: 0.5334 - loss: 0.6910 - val_accuracy: 0.5442 - val_loss: 0.6893\n",
      "Epoch 88/100\n",
      "\u001b[1m33/33\u001b[0m \u001b[32m━━━━━━━━━━━━━━━━━━━━\u001b[0m\u001b[37m\u001b[0m \u001b[1m0s\u001b[0m 4ms/step - accuracy: 0.5278 - loss: 0.6919 - val_accuracy: 0.5442 - val_loss: 0.6893\n",
      "Epoch 89/100\n",
      "\u001b[1m33/33\u001b[0m \u001b[32m━━━━━━━━━━━━━━━━━━━━\u001b[0m\u001b[37m\u001b[0m \u001b[1m0s\u001b[0m 4ms/step - accuracy: 0.5291 - loss: 0.6917 - val_accuracy: 0.5442 - val_loss: 0.6893\n",
      "Epoch 90/100\n",
      "\u001b[1m33/33\u001b[0m \u001b[32m━━━━━━━━━━━━━━━━━━━━\u001b[0m\u001b[37m\u001b[0m \u001b[1m0s\u001b[0m 5ms/step - accuracy: 0.5323 - loss: 0.6912 - val_accuracy: 0.5442 - val_loss: 0.6893\n",
      "Epoch 91/100\n",
      "\u001b[1m33/33\u001b[0m \u001b[32m━━━━━━━━━━━━━━━━━━━━\u001b[0m\u001b[37m\u001b[0m \u001b[1m0s\u001b[0m 5ms/step - accuracy: 0.5418 - loss: 0.6897 - val_accuracy: 0.5442 - val_loss: 0.6893\n",
      "Epoch 92/100\n",
      "\u001b[1m33/33\u001b[0m \u001b[32m━━━━━━━━━━━━━━━━━━━━\u001b[0m\u001b[37m\u001b[0m \u001b[1m0s\u001b[0m 4ms/step - accuracy: 0.5306 - loss: 0.6915 - val_accuracy: 0.5442 - val_loss: 0.6893\n",
      "Epoch 93/100\n",
      "\u001b[1m33/33\u001b[0m \u001b[32m━━━━━━━━━━━━━━━━━━━━\u001b[0m\u001b[37m\u001b[0m \u001b[1m0s\u001b[0m 4ms/step - accuracy: 0.5311 - loss: 0.6914 - val_accuracy: 0.5442 - val_loss: 0.6893\n",
      "Epoch 94/100\n",
      "\u001b[1m33/33\u001b[0m \u001b[32m━━━━━━━━━━━━━━━━━━━━\u001b[0m\u001b[37m\u001b[0m \u001b[1m0s\u001b[0m 4ms/step - accuracy: 0.5407 - loss: 0.6899 - val_accuracy: 0.5442 - val_loss: 0.6893\n",
      "Epoch 95/100\n",
      "\u001b[1m33/33\u001b[0m \u001b[32m━━━━━━━━━━━━━━━━━━━━\u001b[0m\u001b[37m\u001b[0m \u001b[1m0s\u001b[0m 4ms/step - accuracy: 0.5453 - loss: 0.6892 - val_accuracy: 0.5442 - val_loss: 0.6893\n",
      "Epoch 96/100\n",
      "\u001b[1m33/33\u001b[0m \u001b[32m━━━━━━━━━━━━━━━━━━━━\u001b[0m\u001b[37m\u001b[0m \u001b[1m0s\u001b[0m 4ms/step - accuracy: 0.5352 - loss: 0.6907 - val_accuracy: 0.5442 - val_loss: 0.6894\n",
      "Epoch 97/100\n",
      "\u001b[1m33/33\u001b[0m \u001b[32m━━━━━━━━━━━━━━━━━━━━\u001b[0m\u001b[37m\u001b[0m \u001b[1m0s\u001b[0m 4ms/step - accuracy: 0.5473 - loss: 0.6890 - val_accuracy: 0.5442 - val_loss: 0.6893\n",
      "Epoch 98/100\n",
      "\u001b[1m33/33\u001b[0m \u001b[32m━━━━━━━━━━━━━━━━━━━━\u001b[0m\u001b[37m\u001b[0m \u001b[1m0s\u001b[0m 4ms/step - accuracy: 0.5372 - loss: 0.6904 - val_accuracy: 0.5442 - val_loss: 0.6894\n",
      "Epoch 99/100\n",
      "\u001b[1m33/33\u001b[0m \u001b[32m━━━━━━━━━━━━━━━━━━━━\u001b[0m\u001b[37m\u001b[0m \u001b[1m0s\u001b[0m 4ms/step - accuracy: 0.5313 - loss: 0.6912 - val_accuracy: 0.5442 - val_loss: 0.6893\n",
      "Epoch 100/100\n",
      "\u001b[1m33/33\u001b[0m \u001b[32m━━━━━━━━━━━━━━━━━━━━\u001b[0m\u001b[37m\u001b[0m \u001b[1m0s\u001b[0m 4ms/step - accuracy: 0.5347 - loss: 0.6908 - val_accuracy: 0.5442 - val_loss: 0.6893\n",
      "\u001b[1m21/21\u001b[0m \u001b[32m━━━━━━━━━━━━━━━━━━━━\u001b[0m\u001b[37m\u001b[0m \u001b[1m0s\u001b[0m 2ms/step - accuracy: 0.5373 - loss: 0.6904 \n",
      "Test Accuracy: 0.5676922798156738\n"
     ]
    }
   ],
   "source": [
    "import pandas as pd\n",
    "from sklearn.model_selection import train_test_split\n",
    "from tensorflow.keras.models import Sequential\n",
    "from tensorflow.keras.layers import Dense\n",
    "from sklearn.preprocessing import StandardScaler\n",
    "from tensorflow.keras import regularizers\n",
    "from tensorflow.keras.optimizers import Adam\n",
    "\n",
    "# Assuming 'data' is your DataFrame\n",
    "# Assuming 'label' is the target column\n",
    "# Assuming 'vader_score' and 'topic' are your features\n",
    "\n",
    "# Step 1: Split the data into features and target variable\n",
    "X = data[['vader_score', 'topic']]\n",
    "y = data['label']\n",
    "\n",
    "# Step 2: Preprocess the data\n",
    "scaler = StandardScaler()\n",
    "X_scaled = scaler.fit_transform(X)\n",
    "\n",
    "# Step 3: Define neural network architecture\n",
    "model = Sequential([\n",
    "    Dense(128, activation='relu', kernel_regularizer=regularizers.l2(0.01), input_shape=(X.shape[1],)),\n",
    "    Dense(64, activation='relu', kernel_regularizer=regularizers.l2(0.01)),\n",
    "    Dense(32, activation='relu', kernel_regularizer=regularizers.l2(0.01)),\n",
    "    Dense(1, activation='sigmoid')\n",
    "])\n",
    "\n",
    "opt = Adam(learning_rate=0.001)\n",
    "model.compile(optimizer=opt,\n",
    "              loss='binary_crossentropy',\n",
    "              metrics=['accuracy'])\n",
    "\n",
    "# Step 5: Train the model\n",
    "history = model.fit(X_train, y_train, \n",
    "                    epochs=100, \n",
    "                    batch_size=64,  # Adjust batch size\n",
    "                    validation_split=0.2)\n",
    "\n",
    "# Step 6: Evaluate the model\n",
    "test_loss, test_acc = model.evaluate(X_test, y_test)\n",
    "\n",
    "print('Test Accuracy:', test_acc)"
   ]
  },
  {
   "cell_type": "code",
   "execution_count": 49,
   "metadata": {},
   "outputs": [
    {
     "data": {
      "image/png": "[encoded data removed]",
      "text/plain": [
       "<Figure size 640x480 with 1 Axes>"
      ]
     },
     "metadata": {},
     "output_type": "display_data"
    }
   ],
   "source": [
    "# Step 7: Plotting accuracy history\n",
    "import matplotlib.pyplot as plt\n",
    "plt.plot(history.history['accuracy'], label='Training Accuracy')\n",
    "plt.plot(history.history['val_accuracy'], label='Validation Accuracy')\n",
    "plt.xlabel('Epoch')\n",
    "plt.ylabel('Accuracy')\n",
    "plt.title('Model Accuracy')\n",
    "plt.legend()\n",
    "plt.show()"
   ]
  },
  {
   "cell_type": "code",
   "execution_count": 88,
   "metadata": {},
   "outputs": [],
   "source": [
    "# This next section was running our original model (trained on tweet and vader score)\n",
    "# We wanted to see if it could classify the larger dataset into pro-trump and pro-biden\n",
    "# We separated the data into three different topics\n",
    "\n",
    "# create three new dataframes depending on the topic\n",
    "# Create separate DataFrames for each topic\n",
    "abortion_df = final_output[final_output['topic'] == 0].copy()\n",
    "immigration_df = final_output[final_output['topic'] == 1].copy()\n",
    "gun_df = final_output[final_output['topic'] == 2].copy()"
   ]
  },
  {
   "cell_type": "code",
   "execution_count": 89,
   "metadata": {},
   "outputs": [],
   "source": [
    "# Drop the 'topic' column from each DataFrame\n",
    "abortion_df.drop(columns=['topic'], inplace=True)\n",
    "immigration_df.drop(columns=['topic'], inplace=True)\n",
    "gun_df.drop(columns=['topic'], inplace=True)"
   ]
  },
  {
   "cell_type": "code",
   "execution_count": 90,
   "metadata": {},
   "outputs": [],
   "source": [
    "abortion_df.drop_duplicates(inplace=True)\n",
    "immigration_df.drop_duplicates(inplace=True)\n",
    "gun_df.drop_duplicates(inplace=True)"
   ]
  },
  {
   "cell_type": "code",
   "execution_count": 91,
   "metadata": {},
   "outputs": [],
   "source": [
    "# Tokenize and pad the text data for each topic DataFrame\n",
    "tokenizer = Tokenizer()\n",
    "sequences_abortion = tokenizer.texts_to_sequences(abortion_df['tweet'])\n",
    "data_text_abortion = pad_sequences(sequences_abortion, maxlen=280)\n",
    "\n",
    "sequences_immigration = tokenizer.texts_to_sequences(immigration_df['tweet'])\n",
    "data_text_immigration = pad_sequences(sequences_immigration, maxlen=280)\n",
    "\n",
    "sequences_gun = tokenizer.texts_to_sequences(gun_df['tweet'])\n",
    "data_text_gun = pad_sequences(sequences_gun, maxlen=280)\n",
    "\n",
    "# Prepare additional features for each topic DataFrame\n",
    "features_abortion = abortion_df['vader_score'].values.reshape(-1, 1)\n",
    "features_immigration = immigration_df['vader_score'].values.reshape(-1, 1)\n",
    "features_gun = gun_df['vader_score'].values.reshape(-1, 1)"
   ]
  },
  {
   "cell_type": "code",
   "execution_count": 92,
   "metadata": {},
   "outputs": [
    {
     "name": "stdout",
     "output_type": "stream",
     "text": [
      "                                                   tweet  vader_score\n",
      "0      @RealCarolJones @charlottesix6 That’s the spec...      -0.6351\n",
      "2      Seuls les bulletins legos doivent être comptés...       0.0000\n",
      "4      This family does... with all our heart, all ou...       0.9057\n",
      "5      @realDonaldTrump He’s using our tax payers dol...      -0.4404\n",
      "8      El moderador del #Debates2020 debería ser @lcv...       0.0000\n",
      "...                                                  ...          ...\n",
      "40833  Ich gehe schlafen und freue mich morgen mit de...       0.0000\n",
      "40843  @nazirafzal @motherhen56 There are a lot of tr...       0.9215\n",
      "40846  #TwitterCensorship the #Smokinggun emails of #...      -0.2023\n",
      "40860  100 reasons to vote for #JoeBiden that don't m...      -0.9337\n",
      "40863  @DoriToribio Una pregunta \\nVeo a #Biden muy m...       0.0000\n",
      "\n",
      "[11061 rows x 2 columns]\n"
     ]
    }
   ],
   "source": [
    "print(gun_df)"
   ]
  },
  {
   "cell_type": "code",
   "execution_count": 93,
   "metadata": {},
   "outputs": [
    {
     "name": "stdout",
     "output_type": "stream",
     "text": [
      "\u001b[1m69/69\u001b[0m \u001b[32m━━━━━━━━━━━━━━━━━━━━\u001b[0m\u001b[37m\u001b[0m \u001b[1m0s\u001b[0m 4ms/step\n",
      "\u001b[1m273/273\u001b[0m \u001b[32m━━━━━━━━━━━━━━━━━━━━\u001b[0m\u001b[37m\u001b[0m \u001b[1m1s\u001b[0m 3ms/step\n",
      "\u001b[1m346/346\u001b[0m \u001b[32m━━━━━━━━━━━━━━━━━━━━\u001b[0m\u001b[37m\u001b[0m \u001b[1m1s\u001b[0m 3ms/step\n"
     ]
    }
   ],
   "source": [
    "# Generate predictions for each topic DataFrame\n",
    "predictions_abortion = model.predict({'text_input': data_text_abortion, 'features_input': features_abortion})\n",
    "predictions_immigration = model.predict({'text_input': data_text_immigration, 'features_input': features_immigration})\n",
    "predictions_gun = model.predict({'text_input': data_text_gun, 'features_input': features_gun})"
   ]
  },
  {
   "cell_type": "code",
   "execution_count": 94,
   "metadata": {},
   "outputs": [
    {
     "name": "stdout",
     "output_type": "stream",
     "text": [
      "[[0.37971732]\n",
      " [0.43120462]\n",
      " [0.33095446]\n",
      " ...\n",
      " [0.30271038]\n",
      " [0.36455157]\n",
      " [0.2783772 ]]\n"
     ]
    }
   ],
   "source": [
    "print(predictions_abortion)"
   ]
  },
  {
   "cell_type": "code",
   "execution_count": 95,
   "metadata": {},
   "outputs": [],
   "source": [
    "# Add new columns for predictions to each topic DataFrame\n",
    "abortion_df['predictions'] = predictions_abortion\n",
    "immigration_df['predictions'] = predictions_immigration\n",
    "gun_df['predictions'] = predictions_gun"
   ]
  },
  {
   "cell_type": "code",
   "execution_count": 96,
   "metadata": {},
   "outputs": [
    {
     "data": {
      "text/plain": [
       "count    8708.000000\n",
       "mean        0.337131\n",
       "std         0.056296\n",
       "min         0.239969\n",
       "25%         0.290179\n",
       "50%         0.330954\n",
       "75%         0.383963\n",
       "max         0.450102\n",
       "Name: predictions, dtype: float64"
      ]
     },
     "execution_count": 96,
     "metadata": {},
     "output_type": "execute_result"
    }
   ],
   "source": [
    "immigration_df['predictions'].describe()"
   ]
  },
  {
   "cell_type": "code",
   "execution_count": 101,
   "metadata": {},
   "outputs": [
    {
     "data": {
      "text/plain": [
       "count    2199.000000\n",
       "mean        0.341167\n",
       "std         0.060609\n",
       "min         0.239612\n",
       "25%         0.288335\n",
       "50%         0.330954\n",
       "75%         0.394541\n",
       "max         0.449705\n",
       "Name: predictions, dtype: float64"
      ]
     },
     "execution_count": 101,
     "metadata": {},
     "output_type": "execute_result"
    }
   ],
   "source": [
    "abortion_df['predictions'].describe()"
   ]
  },
  {
   "cell_type": "code",
   "execution_count": 105,
   "metadata": {},
   "outputs": [
    {
     "data": {
      "text/html": [
       "<div>\n",
       "<style scoped>\n",
       "    .dataframe tbody tr th:only-of-type {\n",
       "        vertical-align: middle;\n",
       "    }\n",
       "\n",
       "    .dataframe tbody tr th {\n",
       "        vertical-align: top;\n",
       "    }\n",
       "\n",
       "    .dataframe thead th {\n",
       "        text-align: right;\n",
       "    }\n",
       "</style>\n",
       "<table border=\"1\" class=\"dataframe\">\n",
       "  <thead>\n",
       "    <tr style=\"text-align: right;\">\n",
       "      <th></th>\n",
       "      <th>tweet</th>\n",
       "      <th>vader_score</th>\n",
       "      <th>predictions</th>\n",
       "    </tr>\n",
       "  </thead>\n",
       "  <tbody>\n",
       "    <tr>\n",
       "      <th>1</th>\n",
       "      <td>@JasonMillerinDC @nypost I think I'll end on t...</td>\n",
       "      <td>-0.4215</td>\n",
       "      <td>0.379717</td>\n",
       "    </tr>\n",
       "    <tr>\n",
       "      <th>3</th>\n",
       "      <td>On his first day in office #JoeBiden will use ...</td>\n",
       "      <td>-0.8360</td>\n",
       "      <td>0.431205</td>\n",
       "    </tr>\n",
       "    <tr>\n",
       "      <th>7</th>\n",
       "      <td>Donald #Trump eats aborted babies</td>\n",
       "      <td>0.0000</td>\n",
       "      <td>0.330954</td>\n",
       "    </tr>\n",
       "    <tr>\n",
       "      <th>13</th>\n",
       "      <td>Blk business owners increase 400% under -#Trum...</td>\n",
       "      <td>0.3291</td>\n",
       "      <td>0.297102</td>\n",
       "    </tr>\n",
       "    <tr>\n",
       "      <th>26</th>\n",
       "      <td>I made a very vulnerable #ElectionDay video th...</td>\n",
       "      <td>0.9101</td>\n",
       "      <td>0.245426</td>\n",
       "    </tr>\n",
       "  </tbody>\n",
       "</table>\n",
       "</div>"
      ],
      "text/plain": [
       "                                                tweet  vader_score  \\\n",
       "1   @JasonMillerinDC @nypost I think I'll end on t...      -0.4215   \n",
       "3   On his first day in office #JoeBiden will use ...      -0.8360   \n",
       "7                   Donald #Trump eats aborted babies       0.0000   \n",
       "13  Blk business owners increase 400% under -#Trum...       0.3291   \n",
       "26  I made a very vulnerable #ElectionDay video th...       0.9101   \n",
       "\n",
       "    predictions  \n",
       "1      0.379717  \n",
       "3      0.431205  \n",
       "7      0.330954  \n",
       "13     0.297102  \n",
       "26     0.245426  "
      ]
     },
     "execution_count": 105,
     "metadata": {},
     "output_type": "execute_result"
    }
   ],
   "source": [
    "abortion_df.head()"
   ]
  },
  {
   "cell_type": "code",
   "execution_count": 102,
   "metadata": {},
   "outputs": [
    {
     "data": {
      "text/plain": [
       "count    11061.000000\n",
       "mean         0.345649\n",
       "std          0.048249\n",
       "min          0.238827\n",
       "25%          0.330954\n",
       "50%          0.330954\n",
       "75%          0.382023\n",
       "max          0.450437\n",
       "Name: predictions, dtype: float64"
      ]
     },
     "execution_count": 102,
     "metadata": {},
     "output_type": "execute_result"
    }
   ],
   "source": [
    "gun_df['predictions'].describe()"
   ]
  },
  {
   "cell_type": "code",
   "execution_count": 127,
   "metadata": {},
   "outputs": [
    {
     "name": "stdout",
     "output_type": "stream",
     "text": [
      "Tweets with the top 5 highest prediction scores in topic 0:\n",
      "Again and again the realisation🥲comes to me:\n",
      "🙂#Biden🙏🏽is🤟🏽#POTUS🤗now🥳🙌🏽😷😀\n",
      "\n",
      "Humanity wins, #empathy wins, #equality wins.\n",
      "Our earth wins, our sky and our oceans. Decency wins. #Selfdetermination, pro-choice, freedom of ànd from religion wins. International #coöperation wins.\n",
      "-------------\n",
      "If the Democratic Party cared about the American people they wouldn’t have pckd #JoeBiden #DonaldTrump cares about America! He cares about you me, you, law &amp; order Work, education, God, babies. He cares about all the things we, his supporters, care about #americanvalues\n",
      "-------------\n",
      "Only under #Trump we see many #Americans freed. Not one freed under #ObamaBiden’’s. #Trump is a blessing may he win another 4 years to keep us https://t.co/wZm5fDuqSw #Trump save America. #Biden wants to save the soul of America, how is that possible when he believes in abortion? https://t.co/JQLCyXEo9E\n",
      "-------------\n",
      "I PRAY FOR GODS PERFECT WILL TO BE DONE IN\n",
      "\n",
      "THIS ELECTION.\n",
      "\n",
      "HE KNOWS THE FUTURE.\n",
      "\n",
      "I Vote President #Trump because He will not kill\n",
      "\n",
      "Our babies via abortion.  Abortion attracts Divine Judgment.\n",
      "\n",
      "#drMM\n",
      "#fb\n",
      "-------------\n",
      "Win or Lose US President @realDonaldTrump will still be considered as one of the best leader in the world today. A leader that supports religious freedom, a leader that made his country great again by strengthening the law and order and a leader that hates abortion. \n",
      "#Trump\n",
      "-------------\n",
      "Thank you @realDonaldTrump, for defending babies' lives.\n",
      "Thank you for taking care of Latinos, black and homosexual community in the USA.\n",
      "Thank you for fighting dictatorships in other countries.\n",
      "Thank you for sowing peace and not war.\n",
      "Thank you for not giving up.\n",
      "#Trump https://t.co/H8n53I3dju\n",
      "-------------\n",
      "#Catholics planning on voting for #Biden, look this is what your voting for!  Not only a #radical #abortion anti-family traitor, but a candidate and #Democrat party that does NOT condemn the destruction of Catholic Churches!  Please see the truth and vote #Trump https://t.co/mAizHR9u2R\n",
      "-------------\n",
      "to all my american bound babies please stay safe out there, there will be riots when a winner is announced and i cannot stress enough how much your vote matters, if you are feeling anxious  please message me 🤍 sending all my love from the UK and please share the word #Biden\n",
      "-------------\n",
      "If #Biden wins the presidency\n",
      "the #USCCB can congratulate themselves for supporting him and his anti-Catholic opinions. \n",
      "They did not speak out against his abortion policies\n",
      "His chemical castration of 8-year-olds\n",
      "His support for euthanasia\n",
      "His wish to infringe religious freedoms\n",
      "-------------\n",
      "\"America, the marxist commie Wall St owned China loving\n",
      "Joe Biden is taking our President #Trump away from us!\"\n",
      "\n",
      "\"God loves Trump!\"\n",
      "\n",
      "\"And we love our guns! Time to wave our guns around\n",
      "and scream like babies!\"\n",
      "\n",
      "\"Trump #bots are you with us!?\" https://t.co/y9AvzDlkv1\n",
      "-------------\n",
      "#Target @Target I’m literally at #Target in #Fl people won’t even look at each other.  I saw the most beautiful mixed babies and commented.  They peered over the isle and saw my face and smiled.  If you think that #Trump won.  He stole our goodness!\n",
      "-------------\n",
      "Yeah, #Trump has to go. Even with only six brain cells in your skull this should be obvious. But celebrating #Biden as a victory is like celebrating a post-rape #abortion as a victory. It only shows that you are still pretty stupid.\n",
      "-------------\n",
      "#PrayerWarriors please #pray for the #suicidal #JoeBiden supporters that may commit #suicide or #riot when #Trump wins. \n",
      "\n",
      "You must look at them as lost souls, your job as a Christian is to help them, not wish hate upon them.\n",
      "\n",
      "Anyone that supports abortion needs prayer\n",
      "-------------\n",
      "3 reasons a #Christian should vote for #DonaldTrump:\n",
      "1.He stands with Israel. God blesses those who bless Israel. Gen. 12:3. \n",
      "2.He’s against abortion. Jesus said, “Let the little children come to me ...for of such is the kingdom of heaven.”\n",
      "3.He favors freedom of religion.\n",
      "-------------\n",
      "3 reasons a #Christian should vote for #DonaldTrump:\n",
      "1.  He stands with Israel. God blesses those who bless Israel. Gen. 12:3. \n",
      "2.  He’s against abortion. Jesus said, “Let the little children come to me ...for of such is the kingdom of heaven.”\n",
      "3.  He favors freedom of religion. https://t.co/Qqgnba9dpK\n",
      "-------------\n",
      "3 reasons a #Christian should vote for #DonaldTrump:\n",
      "1.  He stands with Israel. God blesses those who bless Israel. Gen. 12:3. \n",
      "2.  He’s against abortion. Jesus said, “Let the little children come to me ...for of such is the kingdom of heaven.”\n",
      "3.  He favors freedom of religion. https://t.co/Pbg2UAjEGW\n",
      "-------------\n",
      "3 reasons a #Christian should vote for #DonaldTrump:\n",
      "1.  He stands with Israel. God blesses those who bless Israel. Gen. 12:3. \n",
      "2.  He’s against abortion. Jesus said, “Let the little children come to me ...for of such is the kingdom of heaven.”\n",
      "3.  He favors freedom of religion. https://t.co/rT8iTRZSNA\n",
      "-------------\n",
      "5. @realDonaldTrump stopped funding of late term abortion #Biden supports. \n",
      "\n",
      "So ask yourself honestly, who is the REAL pro-life candidate? Who is the REAL anti-racist candidate?  Anti-war? Pro Peace? Pro dignity of immigrants? Pro Black &amp; Hispanic? The choice is clear. https://t.co/iAQqPxGzwP\n",
      "-------------\n",
      "Al Gore was POTUS until the Supreme court declare POTUS George Bush. So, calm your t1ts babies till the supreme court decide who's the winner. #Trump #SocialismKills\n",
      "-------------\n",
      "I have democratic friends &amp; I'll admit that I probably have distanced myself from them. But I cannot reconcile the fact that they love their children &amp; are catholic yet will still vote Dem &amp; support funded legal late term abortion. Boggles my mind #Trump\n",
      "-------------\n"
     ]
    }
   ],
   "source": [
    "# Find the indices of the rows with the top 20 highest prediction scores in topic_0_df\n",
    "top_5_indices = abortion_df['predictions'].nlargest(20).index\n",
    "\n",
    "# Print the tweets with the top 20 highest prediction scores\n",
    "print(\"Tweets with the top 5 highest prediction scores in topic 0:\")\n",
    "for idx in top_5_indices:\n",
    "    print(abortion_df.loc[idx, 'tweet'])\n",
    "    print(\"-------------\")\n"
   ]
  },
  {
   "cell_type": "code",
   "execution_count": 119,
   "metadata": {},
   "outputs": [
    {
     "data": {
      "image/png": "[encoded data removed]",
      "text/plain": [
       "<Figure size 800x600 with 1 Axes>"
      ]
     },
     "metadata": {},
     "output_type": "display_data"
    }
   ],
   "source": [
    "# Calculate median prediction\n",
    "median_prediction = abortion_df['predictions'].median()\n",
    "\n",
    "# Calculate percentage of prediction scores below and above the median\n",
    "below_median_percentage = (abortion_df[abortion_df['predictions'] < median_prediction].shape[0] / abortion_df.shape[0]) * 100\n",
    "above_median_percentage = (abortion_df[abortion_df['predictions'] >= median_prediction].shape[0] / abortion_df.shape[0]) * 100\n",
    "\n",
    "# Create histogram\n",
    "plt.figure(figsize=(8, 6))\n",
    "\n",
    "# Plotting bars\n",
    "plt.bar(['pro-trump', 'pro-biden'], [below_median_percentage, above_median_percentage], color=['red', 'blue'])\n",
    "\n",
    "# Add labels and title\n",
    "plt.ylabel('Percentage')\n",
    "plt.title('Percentage of tweets supporting Trump or Biden on abortion')\n",
    "\n",
    "# Show plot\n",
    "plt.show()"
   ]
  },
  {
   "cell_type": "code",
   "execution_count": 122,
   "metadata": {},
   "outputs": [
    {
     "data": {
      "image/png": "[encoded data removed]",
      "text/plain": [
       "<Figure size 800x600 with 1 Axes>"
      ]
     },
     "metadata": {},
     "output_type": "display_data"
    }
   ],
   "source": [
    "# Calculate median prediction\n",
    "median_prediction = immigration_df['predictions'].median()\n",
    "\n",
    "# Calculate percentage of prediction scores below and above the median\n",
    "below_median_percentage = (immigration_df[immigration_df['predictions'] < median_prediction].shape[0] / immigration_df.shape[0]) * 100\n",
    "above_median_percentage = (immigration_df[immigration_df['predictions'] >= median_prediction].shape[0] / immigration_df.shape[0]) * 100\n",
    "\n",
    "# Create histogram\n",
    "plt.figure(figsize=(8, 6))\n",
    "\n",
    "# Plotting bars\n",
    "plt.bar(['pro-trump', 'pro-biden'], [below_median_percentage, above_median_percentage], color=['red', 'blue'])\n",
    "\n",
    "# Add labels and title\n",
    "plt.ylabel('Percentage')\n",
    "plt.title('Percentage of tweets supporting Trump or Biden on immigration')\n",
    "\n",
    "# Show plot\n",
    "plt.show()"
   ]
  },
  {
   "cell_type": "code",
   "execution_count": 123,
   "metadata": {},
   "outputs": [
    {
     "data": {
      "image/png": "[encoded data removed]",
      "text/plain": [
       "<Figure size 800x600 with 1 Axes>"
      ]
     },
     "metadata": {},
     "output_type": "display_data"
    }
   ],
   "source": [
    "# Calculate median prediction\n",
    "median_prediction = gun_df['predictions'].median()\n",
    "\n",
    "# Calculate percentage of prediction scores below and above the median\n",
    "below_median_percentage = (gun_df[gun_df['predictions'] < median_prediction].shape[0] / gun_df.shape[0]) * 100\n",
    "above_median_percentage = (gun_df[gun_df['predictions'] >= median_prediction].shape[0] / gun_df.shape[0]) * 100\n",
    "\n",
    "# Create histogram\n",
    "plt.figure(figsize=(8, 6))\n",
    "\n",
    "# Plotting bars\n",
    "plt.bar(['pro-trump', 'pro-biden'], [below_median_percentage, above_median_percentage], color=['red', 'blue'])\n",
    "\n",
    "# Add labels and title\n",
    "plt.ylabel('Percentage')\n",
    "plt.title('Percentage of tweets supporting Trump or Biden on gun control')\n",
    "\n",
    "# Show plot\n",
    "plt.show()"
   ]
  }
 ],
 "metadata": {
  "kernelspec": {
   "display_name": "Python 3",
   "language": "python",
   "name": "python3"
  },
  "language_info": {
   "codemirror_mode": {
    "name": "ipython",
    "version": 3
   },
   "file_extension": ".py",
   "mimetype": "text/x-python",
   "name": "python",
   "nbconvert_exporter": "python",
   "pygments_lexer": "ipython3",
   "version": "3.11.6"
  },
  "vscode": {
   "interpreter": {
    "hash": "b0fa6594d8f4cbf19f97940f81e996739fb7646882a419484c72d19e05852a7e"
   }
  }
 },
 "nbformat": 4,
 "nbformat_minor": 4
}
